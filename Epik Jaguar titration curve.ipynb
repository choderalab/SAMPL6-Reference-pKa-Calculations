{
 "cells": [
  {
   "cell_type": "markdown",
   "metadata": {},
   "source": [
    "# Macroscopic titration curve\n",
    "\n",
    "This notebook analyses the macroscopic titration curve for Epik results of type I, II and III."
   ]
  },
  {
   "cell_type": "code",
   "execution_count": 1,
   "metadata": {},
   "outputs": [],
   "source": [
    "from titrato.stats import rmsd_curve, area_between_curves\n",
    "from titrato.sampl import SAMPL6Experiment, TypeIIIPrediction, TypeIIPrediction, TypeIPrediction, get_typei_pka_data\n",
    "from titrato import graph_to_axes\n",
    "import numpy as np\n",
    "import pandas as pd\n",
    "import matplotlib.pyplot as plt\n",
    "from matplotlib.ticker import MaxNLocator\n",
    "from matplotlib.offsetbox import AnchoredText\n",
    "import matplotlib\n",
    "import seaborn as sns\n",
    "from uncertainties import ufloat\n",
    "import networkx as nx\n",
    "\n",
    "%matplotlib inline\n",
    "sns.set_style(\"ticks\")\n",
    "font = {'size': 24}\n",
    "matplotlib.rc('font', **font)\n",
    "\n",
    "titration_data = pd.DataFrame(columns=[\"Molecule\"])\n",
    "\n",
    "titration_data[\"Molecule\"] = [\"SM{:02d}\".format(molecule+1) for molecule in range(24)]\n",
    "# legend:  \n",
    "#                 [    0 H,     1 H,  2 H ,    3 H,     4 H,      5 H,      6 H,    7 H,      8 H]\n",
    "color_per_state = [\"black\", \"green\", \"red\", \"blue\",  \"gray\", \"orange\", \"purple\", \"cyan\", \"yellow\"]"
   ]
  },
  {
   "cell_type": "markdown",
   "metadata": {},
   "source": [
    "## Epik Type I"
   ]
  },
  {
   "cell_type": "code",
   "execution_count": 2,
   "metadata": {
    "scrolled": true
   },
   "outputs": [
    {
     "name": "stdout",
     "output_type": "stream",
     "text": [
      "SM01\n",
      "SM02\n",
      "SM03\n",
      "SM04\n",
      "SM05\n",
      "SM06\n",
      "SM07\n",
      "SM08\n",
      "SM09\n",
      "SM10\n",
      "SM11\n",
      "SM12\n",
      "SM13\n",
      "SM14\n",
      "SM15\n",
      "SM16\n",
      "SM17\n",
      "SM18\n",
      "SM19\n",
      "SM20\n",
      "SM21\n",
      "SM22\n",
      "SM23\n",
      "SM24\n"
     ]
    }
   ],
   "source": [
    "drop_nodes = dict()\n",
    "deltas = []\n",
    "\n",
    "for molecule in range(24):    \n",
    "    mol_name = \"SM{:02d}\".format(molecule+1)\n",
    "    # Plot the results\n",
    "    fig, ax = plt.subplots(1, 1, figsize=(5,5), dpi=150)\n",
    "    print(mol_name)\n",
    "    # Load dataset for this molecule\n",
    "    experimental_curve = SAMPL6Experiment.from_id(mol_name)\n",
    "    drop = None\n",
    "    try:\n",
    "        if mol_name in drop_nodes:\n",
    "            drop = drop_nodes[mol_name]\n",
    "        predicted_curve = TypeIPrediction.from_id(mol_name, \"Epik/typeI-raw-microscopic.csv\", drop_nodes=drop)\n",
    "    except nx.NetworkXNoPath as e:\n",
    "        graph, df = get_typei_pka_data(mol_name, \"Epik/typeI-raw-microscopic.csv\")\n",
    "        nx.write_graphml(graph, \"epik-{}-debug.graphml\".format(mol_name))\n",
    "        print(\"Could not construct macroscopic curve for {}.\".format(mol_name))\n",
    "        print(e)\n",
    "        \n",
    "        continue\n",
    "    \n",
    "    # Align the predicted curve to the experimental curve\n",
    "    predicted_curve.align_mean_charge(experimental_curve, area_between_curves, 0.1)\n",
    "        \n",
    "    \n",
    "    # Shortcuts\n",
    "    q1 = experimental_curve.mean_charge\n",
    "    q2 = predicted_curve.mean_charge\n",
    "    ph = experimental_curve.ph_values\n",
    "    delta = area_between_curves(q1,q2, 0.1)\n",
    "    deltas.append(delta)\n",
    "    # Store the area information in a floating text box in the top right corner\n",
    "    anchored_text = AnchoredText(r\"$\\Delta$ = {:.2f}\".format(delta), loc=1)\n",
    "    ax.add_artist(anchored_text)\n",
    "    \n",
    "    # Experiment a black solid curve, prediction is green\n",
    "    ax.plot(ph,q1, color=\"black\", label=\"Experiment\")\n",
    "    ax.plot(ph,q2, color=\"green\", label=\"Epik scan\")\n",
    "    \n",
    "    # Area between curves is colored in gray\n",
    "    ax.fill_between(ph, q1, q2, facecolor=\"#dddddd\", interpolate=True)\n",
    "    \n",
    "    \n",
    "    # Integer labels for y axis\n",
    "    ax.yaxis.set_major_locator(MaxNLocator(integer=True))\n",
    "    \n",
    "    labels = [item.get_text() for item in ax.get_yticklabels()]\n",
    "    empty_string_labels = ['']*len(labels)\n",
    "    ax.set_yticklabels(empty_string_labels)\n",
    "    ax.set_ylabel(\"Mean charge\")\n",
    "    ax.set_xlabel(\"pH\")\n",
    "    ax.set_title(mol_name)\n",
    "    plt.xticks(np.arange(2.0, 14.0, 2.0))\n",
    "    \n",
    "    # remove top and right spines\n",
    "    sns.despine()\n",
    "    # fit everything within bounds\n",
    "    plt.tight_layout()\n",
    "    plt.savefig(\"Images/Epik/TypeI/{}/charge-curve.png\".format(mol_name))\n",
    "    plt.close(fig)\n",
    "    # Population curves for experiment\n",
    "    fig, ax = plt.subplots(1, 1, figsize=(5,5), dpi=150)\n",
    "    plt.xticks(np.arange(2.0, 14.0, 2.0))\n",
    "    fig2, ax2 = plt.subplots(1, 1, figsize=(5,5), dpi=150)\n",
    "    plt.xticks(np.arange(2.0, 14.0, 2.0))\n",
    "    for i, state_id in enumerate(experimental_curve.state_ids):\n",
    "        nbound = experimental_curve.nbound[i]\n",
    "        color = color_per_state[nbound]\n",
    "        ax.plot(ph, experimental_curve.populations[i], color=color, label=\"n={}\".format(nbound))\n",
    "        ax2.plot(ph, experimental_curve.free_energies[i], color=color, label=\"n={}\".format(nbound))\n",
    "    \n",
    "    ax.yaxis.set_major_locator(MaxNLocator(integer=True))    \n",
    "    labels = [item.get_text() for item in ax.get_yticklabels()]\n",
    "    empty_string_labels = ['']*len(labels)\n",
    "    ax.set_yticklabels(empty_string_labels)    \n",
    "    ax.set_ylabel(\"Population\")\n",
    "    ax.set_xlabel(\"pH\")\n",
    "    #ax.set_title(mol_name)\n",
    "    \n",
    "    ax2.set_ylabel(r\"Free Energy ($RT$)\")\n",
    "    ax2.set_xlabel(\"pH\")\n",
    "    #ax2.set_title(mol_name)   \n",
    "    sns.despine(fig)\n",
    "    sns.despine(fig2)\n",
    "    fig.tight_layout()\n",
    "    fig2.tight_layout()\n",
    "    fig.savefig(\"Images/Experiment/{}/population-curve.png\".format(mol_name))\n",
    "    fig2.savefig(\"Images/Experiment/{}/free-energy-curve.png\".format(mol_name))\n",
    "    \n",
    "    plt.close(fig)\n",
    "    plt.close(fig2)\n",
    "    \n",
    "    # Population curves for type I\n",
    "    fig, ax = plt.subplots(1, 1, figsize=(5,5), dpi=150)\n",
    "    plt.xticks(np.arange(2.0, 14.0, 2.0))\n",
    "    fig2, ax2 = plt.subplots(1, 1, figsize=(5,5), dpi=150)\n",
    "    plt.xticks(np.arange(2.0, 14.0, 2.0))\n",
    "    for i, state_id in enumerate(predicted_curve.state_ids):\n",
    "        nbound = predicted_curve.nbound[i]\n",
    "        color = color_per_state[nbound]\n",
    "        ax.plot(ph, predicted_curve.populations[i], color=color, label=\"n={}\".format(nbound))\n",
    "        ax2.plot(ph, predicted_curve.free_energies[i], color=color, label=\"n={}\".format(nbound))\n",
    "    \n",
    "    ax.yaxis.set_major_locator(MaxNLocator(integer=True))    \n",
    "    labels = [item.get_text() for item in ax.get_yticklabels()]\n",
    "    empty_string_labels = ['']*len(labels)\n",
    "    ax.set_yticklabels(empty_string_labels)    \n",
    "    ax.set_ylabel(\"Population\")\n",
    "    ax.set_xlabel(\"pH\")\n",
    "    ax.set_title(mol_name)\n",
    "    \n",
    "    ax2.set_ylabel(r\"Free Energy ($RT$)\")\n",
    "    ax2.set_xlabel(\"pH\")\n",
    "    ax2.set_title(mol_name) \n",
    "    sns.despine(fig)\n",
    "    sns.despine(fig2)\n",
    "    fig.tight_layout()\n",
    "    fig2.tight_layout()\n",
    "    fig.savefig(\"Images/Epik/TypeI/{}/population-curve.png\".format(mol_name))\n",
    "    fig2.savefig(\"Images/Epik/TypeI/{}/free-energy-curve.png\".format(mol_name))\n",
    "    plt.close(fig)\n",
    "    plt.close(fig2)\n",
    "    \n",
    "titration_data[\"Δ Epik Type I\"] = deltas"
   ]
  },
  {
   "cell_type": "markdown",
   "metadata": {},
   "source": [
    "## Type II"
   ]
  },
  {
   "cell_type": "code",
   "execution_count": 5,
   "metadata": {
    "scrolled": true
   },
   "outputs": [
    {
     "name": "stdout",
     "output_type": "stream",
     "text": [
      "SM01\n"
     ]
    },
    {
     "name": "stderr",
     "output_type": "stream",
     "text": [
      "C:\\Users\\rustenba\\AppData\\Local\\Continuum\\miniconda3\\envs\\pka-model\\lib\\site-packages\\titrato\\titrato.py:260: RuntimeWarning: divide by zero encountered in log\n",
      "  free_energies = - np.log(populations)\n",
      "C:\\Users\\rustenba\\AppData\\Local\\Continuum\\miniconda3\\envs\\pka-model\\lib\\site-packages\\titrato\\titrato.py:262: RuntimeWarning: invalid value encountered in subtract\n",
      "  return free_energies - free_energies[0]\n"
     ]
    },
    {
     "name": "stdout",
     "output_type": "stream",
     "text": [
      "SM02\n",
      "SM03\n",
      "SM04\n",
      "SM05\n",
      "SM06\n",
      "SM07\n",
      "SM08\n",
      "SM09\n",
      "SM10\n",
      "SM11\n",
      "SM12\n",
      "SM13\n",
      "SM14\n",
      "SM15\n",
      "SM16\n",
      "SM17\n",
      "SM18\n",
      "SM19\n",
      "SM20\n",
      "SM21\n",
      "SM22\n",
      "SM23\n",
      "SM24\n"
     ]
    }
   ],
   "source": [
    "deltas = []\n",
    "for molecule in range(24):    \n",
    "    mol_name = \"SM{:02d}\".format(molecule+1)\n",
    "    print(mol_name)\n",
    "    # Load dataset for this molecule\n",
    "    experimental_curve = SAMPL6Experiment.from_id(mol_name)\n",
    "    predicted_curve = TypeIIPrediction.from_id(mol_name, \"Epik/typeII-raw-microscopic.csv\", \"charges_per_state.csv\")\n",
    "    \n",
    "    # Align the predicted curve to the experimental curve\n",
    "    predicted_curve.align_mean_charge(experimental_curve, area_between_curves, 0.1)\n",
    "    \n",
    "    # Plot the results\n",
    "    fig, ax = plt.subplots(1, 1, figsize=(5,5), dpi=150)\n",
    "    \n",
    "    # Shortcuts\n",
    "    q1 = experimental_curve.mean_charge\n",
    "    q2 = predicted_curve.mean_charge\n",
    "    ph = experimental_curve.ph_values\n",
    "    \n",
    "    # Store the area information in a floating text box in the top right corner\n",
    "    delta = area_between_curves(q1,q2, 0.1)\n",
    "    deltas.append(delta)\n",
    "    anchored_text = AnchoredText(r\"$\\Delta$ = {:.2f}\".format(delta), loc=1)\n",
    "    ax.add_artist(anchored_text)\n",
    "    \n",
    "    # Experiment a black solid curve, prediction is green\n",
    "    ax.plot(ph,q1, color=\"black\", label=\"Experiment\")\n",
    "    ax.plot(ph,q2, color=\"green\", label=\"Epik scan\")\n",
    "    \n",
    "    # Area between curves is colored in gray\n",
    "    ax.fill_between(ph, q1, q2, facecolor=\"#dddddd\", interpolate=True)\n",
    "    \n",
    "    \n",
    "    # Integer labels for y axis\n",
    "    ax.yaxis.set_major_locator(MaxNLocator(integer=True))\n",
    "    \n",
    "    labels = [item.get_text() for item in ax.get_yticklabels()]\n",
    "    empty_string_labels = ['']*len(labels)\n",
    "    ax.set_yticklabels(empty_string_labels)\n",
    "    ax.set_ylabel(\"Mean charge\")\n",
    "    ax.set_xlabel(\"pH\")\n",
    "    ax.set_title(mol_name)\n",
    "    plt.xticks(np.arange(2.0, 14.0, 2.0))\n",
    "    \n",
    "    # remove top and right spines\n",
    "    sns.despine()\n",
    "    # fit everything within bounds\n",
    "    plt.tight_layout()\n",
    "    plt.savefig(\"Images/Epik/TypeII/{}/charge-curve.png\".format(mol_name))\n",
    "    plt.close(fig)\n",
    "    \n",
    "    # Population curves for type II\n",
    "    fig, ax = plt.subplots(1, 1, figsize=(5,5), dpi=150)\n",
    "    plt.xticks(np.arange(2.0, 14.0, 2.0))\n",
    "    fig2, ax2 = plt.subplots(1, 1, figsize=(5,5), dpi=150)\n",
    "    plt.xticks(np.arange(2.0, 14.0, 2.0))\n",
    "    for i, state_id in enumerate(predicted_curve.state_ids):\n",
    "        nbound = predicted_curve.nbound[i] + abs(min(predicted_curve.nbound))\n",
    "        color = color_per_state[nbound] \n",
    "        ax.plot(ph, predicted_curve.populations[i], color=color, label=\"n={}\".format(nbound))\n",
    "        ax2.plot(ph, predicted_curve.free_energies[i], color=color, label=\"n={}\".format(nbound))\n",
    "    \n",
    "    ax.yaxis.set_major_locator(MaxNLocator(integer=True))    \n",
    "    labels = [item.get_text() for item in ax.get_yticklabels()]\n",
    "    empty_string_labels = ['']*len(labels)\n",
    "    ax.set_yticklabels(empty_string_labels)    \n",
    "    ax.set_ylabel(\"Population\")\n",
    "    ax.set_xlabel(\"pH\")\n",
    "    #ax.set_title(mol_name)\n",
    "    \n",
    "    ax2.set_ylabel(r\"Free Energy ($RT$)\")\n",
    "    ax2.set_xlabel(\"pH\")\n",
    "    #ax2.set_title(mol_name) \n",
    "    sns.despine(fig)\n",
    "    sns.despine(fig2)\n",
    "    fig.tight_layout()\n",
    "    fig2.tight_layout()\n",
    "    fig.savefig(\"Images/Epik/TypeII/{}/population-curve.png\".format(mol_name))\n",
    "    fig2.savefig(\"Images/Epik/TypeII/{}/free-energy-curve.png\".format(mol_name))\n",
    "    plt.close(fig)\n",
    "    plt.close(fig2)\n",
    "    \n",
    "\n",
    "titration_data[\"Δ Epik Type II\"] = deltas"
   ]
  },
  {
   "cell_type": "markdown",
   "metadata": {},
   "source": [
    "## Type III"
   ]
  },
  {
   "cell_type": "code",
   "execution_count": 3,
   "metadata": {
    "scrolled": false
   },
   "outputs": [
    {
     "name": "stdout",
     "output_type": "stream",
     "text": [
      "SM01\n",
      "SM02\n"
     ]
    },
    {
     "name": "stderr",
     "output_type": "stream",
     "text": [
      "C:\\Users\\rustenba\\AppData\\Local\\Continuum\\miniconda3\\envs\\pka-model\\lib\\site-packages\\titrato\\titrato.py:260: RuntimeWarning: invalid value encountered in log\n",
      "  free_energies = - np.log(populations)\n"
     ]
    },
    {
     "name": "stdout",
     "output_type": "stream",
     "text": [
      "SM03\n",
      "SM04\n",
      "SM05\n",
      "SM06\n",
      "SM07\n",
      "SM08\n",
      "SM09\n",
      "SM10\n",
      "SM11\n",
      "SM12\n",
      "SM13\n",
      "SM14\n",
      "SM15\n",
      "SM16\n",
      "SM17\n",
      "SM18\n",
      "SM19\n",
      "SM20\n",
      "SM21\n",
      "SM22\n",
      "SM23\n",
      "SM24\n"
     ]
    }
   ],
   "source": [
    "deltas = []\n",
    "\n",
    "for molecule in range(24):    \n",
    "    mol_name = \"SM{:02d}\".format(molecule+1)\n",
    "    print(mol_name)\n",
    "    # Load dataset for this molecule\n",
    "    experimental_curve = SAMPL6Experiment.from_id(mol_name)\n",
    "    predicted_curve = TypeIIIPrediction.from_id(mol_name, \"Epik/typeIII-raw-sequential.csv\")\n",
    "    \n",
    "    # Align the predicted curve to the experimental curve\n",
    "    predicted_curve.align_mean_charge(experimental_curve, area_between_curves, 0.1)\n",
    "    \n",
    "    # Plot the results\n",
    "    fig, ax = plt.subplots(1, 1, figsize=(5,5), dpi=150)\n",
    "    \n",
    "    # Shortcuts\n",
    "    q1 = experimental_curve.mean_charge\n",
    "    q2 = predicted_curve.mean_charge\n",
    "    ph = experimental_curve.ph_values\n",
    "    delta = area_between_curves(q1,q2, 0.1)\n",
    "    deltas.append(delta)\n",
    "    # Store the area information in a floating text box in the top right corner\n",
    "    anchored_text = AnchoredText(r\"$\\Delta$ = {:.2f}\".format(delta), loc=1)\n",
    "    ax.add_artist(anchored_text)\n",
    "    \n",
    "    # Experiment a black solid curve, prediction is green\n",
    "    ax.plot(ph,q1, color=\"black\", label=\"Experiment\")\n",
    "    ax.plot(ph,q2, color=\"green\", label=\"Epik scan\")\n",
    "    \n",
    "    # Area between curves is colored in gray\n",
    "    ax.fill_between(ph, q1, q2, facecolor=\"#dddddd\", interpolate=True)\n",
    "    \n",
    "    \n",
    "    # Integer labels for y axis\n",
    "    ax.yaxis.set_major_locator(MaxNLocator(integer=True))\n",
    "    \n",
    "    labels = [item.get_text() for item in ax.get_yticklabels()]\n",
    "    empty_string_labels = ['']*len(labels)\n",
    "    ax.set_yticklabels(empty_string_labels)\n",
    "    ax.set_ylabel(\"Mean charge\")\n",
    "    ax.set_xlabel(\"pH\")\n",
    "    ax.set_title(mol_name)\n",
    "    plt.xticks(np.arange(2.0, 14.0, 2.0))\n",
    "    \n",
    "    # remove top and right spines\n",
    "    sns.despine()\n",
    "    # fit everything within bounds\n",
    "    plt.tight_layout()\n",
    "    plt.savefig(\"Images/Epik/TypeIII/{}/charge-curve.png\".format(mol_name))\n",
    "    plt.close(fig)\n",
    "    \n",
    "    # Population curves for type II\n",
    "    fig, ax = plt.subplots(1, 1, figsize=(5,5), dpi=150)\n",
    "    plt.xticks(np.arange(2.0, 14.0, 2.0))\n",
    "    fig2, ax2 = plt.subplots(1, 1, figsize=(5,5), dpi=150)\n",
    "    plt.xticks(np.arange(2.0, 14.0, 2.0))\n",
    "    for i, state_id in enumerate(predicted_curve.state_ids):\n",
    "        nbound = predicted_curve.nbound[i] + abs(min(predicted_curve.nbound))\n",
    "        color = color_per_state[nbound] \n",
    "        ax.plot(ph, predicted_curve.populations[i], color=color, label=\"n={}\".format(nbound))\n",
    "        ax2.plot(ph, predicted_curve.free_energies[i], color=color, label=\"n={}\".format(nbound))\n",
    "    \n",
    "    ax.yaxis.set_major_locator(MaxNLocator(integer=True))    \n",
    "    labels = [item.get_text() for item in ax.get_yticklabels()]\n",
    "    empty_string_labels = ['']*len(labels)\n",
    "    ax.set_yticklabels(empty_string_labels)    \n",
    "    ax.set_ylabel(\"Population\")\n",
    "    ax.set_xlabel(\"pH\")\n",
    "    #ax.set_title(mol_name)\n",
    "    \n",
    "    ax2.set_ylabel(r\"Free Energy ($RT$)\")\n",
    "    ax2.set_xlabel(\"pH\")\n",
    "    #ax2.set_title(mol_name) \n",
    "    sns.despine(fig)\n",
    "    sns.despine(fig2)\n",
    "    fig.tight_layout()\n",
    "    fig2.tight_layout()\n",
    "    fig.savefig(\"Images/Epik/TypeIII/{}/population-curve.png\".format(mol_name))\n",
    "    fig2.savefig(\"Images/Epik/TypeIII/{}/free-energy-curve.png\".format(mol_name))\n",
    "    plt.close(fig)\n",
    "    plt.close(fig2)\n",
    "    \n",
    "    \n",
    "titration_data[\"Δ Epik Type III\"] = deltas"
   ]
  },
  {
   "cell_type": "markdown",
   "metadata": {},
   "source": [
    "## Jaguar type I"
   ]
  },
  {
   "cell_type": "code",
   "execution_count": 5,
   "metadata": {
    "scrolled": false
   },
   "outputs": [
    {
     "name": "stdout",
     "output_type": "stream",
     "text": [
      "SM01\n",
      "SM02\n",
      "SM03\n",
      "SM04\n",
      "SM05\n",
      "SM06\n",
      "SM07\n",
      "SM08\n",
      "SM09\n",
      "SM10\n",
      "SM11\n",
      "SM12\n",
      "SM13\n",
      "SM14\n",
      "SM15\n",
      "SM16\n",
      "SM17\n",
      "SM18\n",
      "SM19\n",
      "SM20\n",
      "SM21\n",
      "SM22\n",
      "SM23\n",
      "SM24\n"
     ]
    }
   ],
   "source": [
    "deltas = []\n",
    "\n",
    "for molecule in range(24):    \n",
    "    mol_name = \"SM{:02d}\".format(molecule+1)\n",
    "    # Plot the results\n",
    "    fig, ax = plt.subplots(1, 1, figsize=(5,5), dpi=150)\n",
    "    print(mol_name)\n",
    "    # Load dataset for this molecule\n",
    "    experimental_curve = SAMPL6Experiment.from_id(mol_name)\n",
    "    drop = None\n",
    "    try:\n",
    "        if mol_name in drop_nodes:\n",
    "            drop = drop_nodes[mol_name]\n",
    "        predicted_curve = TypeIPrediction.from_id(mol_name, \"Jaguar/typeI-raw.csv\", drop_nodes=drop)\n",
    "    except nx.NetworkXNoPath as e:\n",
    "        graph, df = get_typei_pka_data(mol_name, \"Jaguar/typeI-raw.csv\")\n",
    "        nx.write_graphml(graph, \"{}-debug.graphml\".format(mol_name))\n",
    "        print(\"Could not construct macroscopic curve for {}.\".format(mol_name))\n",
    "        deltas.append(np.nan)\n",
    "        print(e)\n",
    "        \n",
    "        continue\n",
    "    \n",
    "    # Align the predicted curve to the experimental curve\n",
    "    predicted_curve.align_mean_charge(experimental_curve, area_between_curves, 0.1)\n",
    "        \n",
    "    \n",
    "    # Shortcuts\n",
    "    q1 = experimental_curve.mean_charge\n",
    "    q2 = predicted_curve.mean_charge\n",
    "    ph = experimental_curve.ph_values\n",
    "    delta = area_between_curves(q1,q2, 0.1)\n",
    "    deltas.append(delta)\n",
    "    # Store the area information in a floating text box in the top right corner\n",
    "    anchored_text = AnchoredText(r\"$\\Delta$ = {:.2f}\".format(delta), loc=1)\n",
    "    ax.add_artist(anchored_text)\n",
    "    \n",
    "    # Experiment a black solid curve, prediction is green\n",
    "    ax.plot(ph,q1, color=\"black\", label=\"Experiment\")\n",
    "    ax.plot(ph,q2, color=\"green\", label=\"Epik scan\")\n",
    "    \n",
    "    # Area between curves is colored in gray\n",
    "    ax.fill_between(ph, q1, q2, facecolor=\"#dddddd\", interpolate=True)\n",
    "    \n",
    "    \n",
    "    # Integer labels for y axis\n",
    "    ax.yaxis.set_major_locator(MaxNLocator(integer=True))\n",
    "    \n",
    "    labels = [item.get_text() for item in ax.get_yticklabels()]\n",
    "    empty_string_labels = ['']*len(labels)\n",
    "    ax.set_yticklabels(empty_string_labels)\n",
    "    ax.set_ylabel(\"Mean charge\")\n",
    "    ax.set_xlabel(\"pH\")\n",
    "    ax.set_title(mol_name)\n",
    "    plt.xticks(np.arange(2.0, 14.0, 2.0))\n",
    "    \n",
    "    # remove top and right spines\n",
    "    sns.despine()\n",
    "    # fit everything within bounds\n",
    "    plt.tight_layout()\n",
    "    plt.savefig(\"Images/Jaguar/TypeI/{}/charge-curve.png\".format(mol_name))\n",
    "    plt.close(fig)\n",
    "    \n",
    "    # Population curves for type II\n",
    "    fig, ax = plt.subplots(1, 1, figsize=(5,5), dpi=150)\n",
    "    plt.xticks(np.arange(2.0, 14.0, 2.0))\n",
    "    fig2, ax2 = plt.subplots(1, 1, figsize=(5,5), dpi=150)\n",
    "    plt.xticks(np.arange(2.0, 14.0, 2.0))\n",
    "    for i, state_id in enumerate(predicted_curve.state_ids):\n",
    "        nbound = predicted_curve.nbound[i] + abs(min(predicted_curve.nbound))\n",
    "        color = color_per_state[nbound] \n",
    "        ax.plot(ph, predicted_curve.populations[i], color=color, label=\"n={}\".format(nbound))\n",
    "        ax2.plot(ph, predicted_curve.free_energies[i], color=color, label=\"n={}\".format(nbound))\n",
    "    \n",
    "    ax.yaxis.set_major_locator(MaxNLocator(integer=True))    \n",
    "    labels = [item.get_text() for item in ax.get_yticklabels()]\n",
    "    empty_string_labels = ['']*len(labels)\n",
    "    ax.set_yticklabels(empty_string_labels)    \n",
    "    ax.set_ylabel(\"Population\")\n",
    "    ax.set_xlabel(\"pH\")\n",
    "    ax.set_title(mol_name)\n",
    "    \n",
    "    ax2.set_ylabel(r\"Free Energy ($RT$)\")\n",
    "    ax2.set_xlabel(\"pH\")\n",
    "    ax2.set_title(mol_name) \n",
    "    sns.despine(fig)\n",
    "    sns.despine(fig2)\n",
    "    fig.tight_layout()\n",
    "    fig2.tight_layout()\n",
    "    fig.savefig(\"Images/Jaguar/TypeI/{}/population-curve.png\".format(mol_name))\n",
    "    fig2.savefig(\"Images/Jaguar/TypeI/{}/free-energy-curve.png\".format(mol_name))\n",
    "    plt.close(fig)\n",
    "    plt.close(fig2)\n",
    "    \n",
    "    \n",
    "\n",
    "titration_data[\"Δ Jaguar Type I\"] = deltas"
   ]
  },
  {
   "cell_type": "code",
   "execution_count": 8,
   "metadata": {},
   "outputs": [
    {
     "name": "stdout",
     "output_type": "stream",
     "text": [
      "\\begin{tabular}{lrrrr}\n",
      "\\toprule\n",
      "Molecule &  Δ Epik Type I &  Δ Epik Type II &  Δ Epik Type III &  Δ Jaguar Type I \\\\\n",
      "\\midrule\n",
      "    SM01 &       0.435062 &        0.446500 &         0.463591 &         0.151006 \\\\\n",
      "    SM02 &       2.121594 &        0.594315 &         1.997597 &         1.213176 \\\\\n",
      "    SM03 &       0.107522 &        0.290227 &         0.099998 &         0.576302 \\\\\n",
      "    SM04 &       2.555586 &        0.269335 &         2.203341 &         0.810513 \\\\\n",
      "    SM05 &       1.931912 &        0.746949 &         1.081600 &         0.358297 \\\\\n",
      "    SM06 &       2.916909 &        2.527597 &         2.626087 &         2.099515 \\\\\n",
      "    SM07 &       2.615578 &        0.329331 &         2.256232 &         0.845060 \\\\\n",
      "    SM08 &       2.133806 &        0.573687 &         0.631704 &         6.567410 \\\\\n",
      "    SM09 &       2.531652 &        0.789920 &         2.320220 &         1.099839 \\\\\n",
      "    SM10 &       0.174557 &        0.348154 &         0.624909 &         0.282818 \\\\\n",
      "    SM11 &       1.843417 &        0.069760 &         0.148874 &         1.689301 \\\\\n",
      "    SM12 &       2.487720 &        0.719449 &         2.269771 &         0.889349 \\\\\n",
      "    SM13 &       2.649985 &        0.887829 &         2.806909 &         0.305235 \\\\\n",
      "    SM14 &       1.070602 &        1.742179 &         1.758965 &         0.250817 \\\\\n",
      "    SM15 &       1.071499 &        1.324937 &         1.313724 &         0.850572 \\\\\n",
      "    SM16 &       4.368986 &        1.106962 &         1.444207 &         0.975174 \\\\\n",
      "    SM17 &       1.714553 &        1.716338 &         1.716551 &         0.075986 \\\\\n",
      "    SM18 &       0.753654 &        1.023879 &         1.006553 &         3.740697 \\\\\n",
      "    SM19 &       0.389038 &        0.395785 &         0.738269 &         1.226628 \\\\\n",
      "    SM20 &       2.349880 &        2.349986 &         2.349880 &         1.609919 \\\\\n",
      "    SM21 &       1.266446 &        0.700858 &         0.556025 &         0.552376 \\\\\n",
      "    SM22 &       0.949720 &        1.621057 &         1.641211 &         0.234473 \\\\\n",
      "    SM23 &       3.500270 &        0.681748 &         3.176323 &         1.594011 \\\\\n",
      "    SM24 &       2.826976 &        3.461111 &         5.621317 &         0.748661 \\\\\n",
      "\\bottomrule\n",
      "\\end{tabular}\n",
      "\n"
     ]
    }
   ],
   "source": [
    "print(titration_data.to_latex(index=False))"
   ]
  },
  {
   "cell_type": "code",
   "execution_count": 9,
   "metadata": {},
   "outputs": [],
   "source": [
    "titration_data = titration_data.append(titration_data.mean(), ignore_index=True)"
   ]
  },
  {
   "cell_type": "code",
   "execution_count": 10,
   "metadata": {},
   "outputs": [
    {
     "name": "stdout",
     "output_type": "stream",
     "text": [
      "\\begin{tabular}{lrrrr}\n",
      "\\toprule\n",
      "Molecule &  Δ Epik Type I &  Δ Epik Type II &  Δ Epik Type III &  Δ Jaguar Type I \\\\\n",
      "\\midrule\n",
      "    SM01 &       0.435062 &        0.446500 &         0.463591 &         0.151006 \\\\\n",
      "    SM02 &       2.121594 &        0.594315 &         1.997597 &         1.213176 \\\\\n",
      "    SM03 &       0.107522 &        0.290227 &         0.099998 &         0.576302 \\\\\n",
      "    SM04 &       2.555586 &        0.269335 &         2.203341 &         0.810513 \\\\\n",
      "    SM05 &       1.931912 &        0.746949 &         1.081600 &         0.358297 \\\\\n",
      "    SM06 &       2.916909 &        2.527597 &         2.626087 &         2.099515 \\\\\n",
      "    SM07 &       2.615578 &        0.329331 &         2.256232 &         0.845060 \\\\\n",
      "    SM08 &       2.133806 &        0.573687 &         0.631704 &         6.567410 \\\\\n",
      "    SM09 &       2.531652 &        0.789920 &         2.320220 &         1.099839 \\\\\n",
      "    SM10 &       0.174557 &        0.348154 &         0.624909 &         0.282818 \\\\\n",
      "    SM11 &       1.843417 &        0.069760 &         0.148874 &         1.689301 \\\\\n",
      "    SM12 &       2.487720 &        0.719449 &         2.269771 &         0.889349 \\\\\n",
      "    SM13 &       2.649985 &        0.887829 &         2.806909 &         0.305235 \\\\\n",
      "    SM14 &       1.070602 &        1.742179 &         1.758965 &         0.250817 \\\\\n",
      "    SM15 &       1.071499 &        1.324937 &         1.313724 &         0.850572 \\\\\n",
      "    SM16 &       4.368986 &        1.106962 &         1.444207 &         0.975174 \\\\\n",
      "    SM17 &       1.714553 &        1.716338 &         1.716551 &         0.075986 \\\\\n",
      "    SM18 &       0.753654 &        1.023879 &         1.006553 &         3.740697 \\\\\n",
      "    SM19 &       0.389038 &        0.395785 &         0.738269 &         1.226628 \\\\\n",
      "    SM20 &       2.349880 &        2.349986 &         2.349880 &         1.609919 \\\\\n",
      "    SM21 &       1.266446 &        0.700858 &         0.556025 &         0.552376 \\\\\n",
      "    SM22 &       0.949720 &        1.621057 &         1.641211 &         0.234473 \\\\\n",
      "    SM23 &       3.500270 &        0.681748 &         3.176323 &         1.594011 \\\\\n",
      "    SM24 &       2.826976 &        3.461111 &         5.621317 &         0.748661 \\\\\n",
      "     NaN &       1.865289 &        1.029912 &         1.702244 &         1.197797 \\\\\n",
      "\\bottomrule\n",
      "\\end{tabular}\n",
      "\n"
     ]
    }
   ],
   "source": [
    "print(titration_data.to_latex(index=False))"
   ]
  },
  {
   "cell_type": "code",
   "execution_count": 18,
   "metadata": {},
   "outputs": [
    {
     "data": {
      "text/plain": [
       "(0, 1)"
      ]
     },
     "execution_count": 18,
     "metadata": {},
     "output_type": "execute_result"
    },
    {
     "data": {
      "image/png": "[encoded data removed]",
      "text/plain": [
       "<Figure size 432x288 with 1 Axes>"
      ]
     },
     "metadata": {},
     "output_type": "display_data"
    }
   ],
   "source": [
    "for i, state in enumerate(predicted_curve.state_ids):\n",
    "    plt.plot(predicted_curve.populations[i], label=state, color=\"red\")\n",
    "plt.legend()\n",
    "plt.ylim([0,1\n",
    "        ])\n"
   ]
  },
  {
   "cell_type": "code",
   "execution_count": 98,
   "metadata": {},
   "outputs": [
    {
     "data": {
      "image/png": "[encoded data removed]",
      "text/plain": [
       "<Figure size 648x72 with 1 Axes>"
      ]
     },
     "metadata": {},
     "output_type": "display_data"
    }
   ],
   "source": [
    "#                 [    0 H,         1 H,      2 H ,       3 H,       4 H,     5 H,      6 H,    7 H,      8 H]\n",
    "color_per_state = [\"#1a32e6\", \"#00994d\", \"#e60000\", \"#006bb3\", \"#ffcc00\",  \"#808080\", \"#8600b3\", \"#ff751a\",  \"#00b3b3\"]\n",
    "sns.palplot(sns.color_palette(color_per_state))"
   ]
  },
  {
   "cell_type": "code",
   "execution_count": 45,
   "metadata": {},
   "outputs": [
    {
     "data": {
      "image/png": "[encoded data removed]",
      "text/plain": [
       "<Figure size 648x72 with 1 Axes>"
      ]
     },
     "metadata": {},
     "output_type": "display_data"
    }
   ],
   "source": []
  },
  {
   "cell_type": "code",
   "execution_count": 91,
   "metadata": {},
   "outputs": [],
   "source": [
    "y = int(\"00994d\",16)\n",
    "z = int(\"333333\", 16)"
   ]
  },
  {
   "cell_type": "code",
   "execution_count": 97,
   "metadata": {},
   "outputs": [
    {
     "data": {
      "text/plain": [
       "'0x1a32e6'"
      ]
     },
     "execution_count": 97,
     "metadata": {},
     "output_type": "execute_result"
    }
   ],
   "source": [
    "hex(round(y + z / 2))"
   ]
  },
  {
   "cell_type": "code",
   "execution_count": 5,
   "metadata": {},
   "outputs": [],
   "source": [
    "from titrato.plots import plot_free_energy, plot_experimental_free_energy\n",
    "from matplotlib import pyplot as plt"
   ]
  },
  {
   "cell_type": "code",
   "execution_count": 18,
   "metadata": {},
   "outputs": [
    {
     "data": {
      "text/plain": [
       "(<matplotlib.axes._subplots.AxesSubplot at 0x5ca458ca58>,\n",
       " <Figure size 750x750 with 1 Axes>)"
      ]
     },
     "execution_count": 18,
     "metadata": {},
     "output_type": "execute_result"
    },
    {
     "data": {
      "image/png": "[encoded data removed]",
      "text/plain": [
       "<Figure size 750x750 with 1 Axes>"
      ]
     },
     "metadata": {},
     "output_type": "display_data"
    }
   ],
   "source": [
    "plot_experimental_free_energy(\"SM24\", include_experiment=False, closefig=False)"
   ]
  },
  {
   "cell_type": "code",
   "execution_count": 17,
   "metadata": {},
   "outputs": [
    {
     "data": {
      "text/plain": [
       "<Figure size 432x288 with 0 Axes>"
      ]
     },
     "metadata": {},
     "output_type": "display_data"
    }
   ],
   "source": [
    "x = plt.gcf()"
   ]
  },
  {
   "cell_type": "code",
   "execution_count": 14,
   "metadata": {},
   "outputs": [],
   "source": [
    "plt.show(x)"
   ]
  },
  {
   "cell_type": "code",
   "execution_count": 15,
   "metadata": {},
   "outputs": [],
   "source": [
    "% matplotlib inline"
   ]
  },
  {
   "cell_type": "code",
   "execution_count": 16,
   "metadata": {},
   "outputs": [],
   "source": [
    "plt.show(x)"
   ]
  },
  {
   "cell_type": "code",
   "execution_count": null,
   "metadata": {},
   "outputs": [],
   "source": []
  }
 ],
 "metadata": {
  "kernelspec": {
   "display_name": "Python 3",
   "language": "python",
   "name": "python3"
  },
  "language_info": {
   "codemirror_mode": {
    "name": "ipython",
    "version": 3
   },
   "file_extension": ".py",
   "mimetype": "text/x-python",
   "name": "python",
   "nbconvert_exporter": "python",
   "pygments_lexer": "ipython3",
   "version": "3.6.5"
  }
 },
 "nbformat": 4,
 "nbformat_minor": 2
}
