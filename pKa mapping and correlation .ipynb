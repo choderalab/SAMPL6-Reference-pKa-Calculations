{
 "cells": [
  {
   "cell_type": "code",
   "execution_count": null,
   "metadata": {},
   "outputs": [],
   "source": [
    "from titrato import align_pka, hungarian_pka, closest_pka, TitrationCurve\n",
    "from titrato.stats import array_rmse, msd\n",
    "from titrato.sampl import get_experimental_pKa_data, get_typeiii_pka_data, get_typei_pka_data, data_dir\n",
    "from titrato.reports import plot_correlation_analysis\n",
    "import numpy as np\n",
    "import pandas as pd\n",
    "import matplotlib.pyplot as plt\n",
    "import matplotlib\n",
    "import seaborn as sns\n",
    "from uncertainties import ufloat\n",
    "from copy import deepcopy\n",
    "from scipy.stats import pearsonr\n",
    "import seaborn as sns\n",
    "\n",
    "%matplotlib inline\n",
    "sns.set_style(\"ticks\")\n",
    "font = {'size': 9}\n",
    "\n",
    "matplotlib.rc('font', **font)\n"
   ]
  },
  {
   "cell_type": "markdown",
   "metadata": {},
   "source": [
    "# Epik scan "
   ]
  },
  {
   "cell_type": "code",
   "execution_count": null,
   "metadata": {},
   "outputs": [],
   "source": [
    "df_closest = pd.DataFrame(columns=[\"Molecule\", \"Experimental\", \"Experimental SEM\", \"Predicted\", \"Predicted SEM\", \"Cost\"])\n",
    "df_align = pd.DataFrame(columns=[\"Molecule\", \"Experimental\", \"Experimental SEM\", \"Predicted\", \"Predicted SEM\", \"Cost\"])\n",
    "df_hung =  pd.DataFrame(columns=[\"Molecule\", \"Experimental\", \"Experimental SEM\", \"Predicted\", \"Predicted SEM\", \"Cost\"])\n",
    "\n",
    "for molecule in range(24):\n",
    "    mol_name = \"SM{:02d}\".format(molecule+1)\n",
    "    print(mol_name)\n",
    "    experimental_pkas = get_experimental_pKa_data(mol_name)\n",
    "    predicted_pkas = get_typeiii_pka_data(mol_name, \"Epik/typeIII-raw-sequential.csv\")\n",
    "    closest_match = closest_pka(experimental_pkas, predicted_pkas, array_rmse)\n",
    "    hung_match = hungarian_pka(experimental_pkas, predicted_pkas, msd)\n",
    "    align_match = align_pka(experimental_pkas, predicted_pkas, array_rmse)\n",
    "    closest_match[\"Molecule\"] = mol_name\n",
    "    hung_match[\"Molecule\"] = mol_name\n",
    "    align_match[\"Molecule\"] = mol_name\n",
    "    df_closest = df_closest.append(closest_match, ignore_index=True)\n",
    "    df_hung = df_hung.append(hung_match, ignore_index=True)\n",
    "    df_align = df_align.append(align_match, ignore_index=True)\n",
    "    \n",
    "\n",
    "df_closest = df_closest.dropna(subset=[\"Experimental\"])\n",
    "df_hung = df_hung.dropna(subset=[\"Experimental\"])\n",
    "df_align = df_align.dropna(subset=[\"Experimental\"])\n",
    "    "
   ]
  },
  {
   "cell_type": "code",
   "execution_count": null,
   "metadata": {},
   "outputs": [],
   "source": [
    "plot_correlation_analysis(df_align,'Epik scan', 'blue', 's', nsamples=10000)[0].savefig(\"aligned_pka_epik_scan.pdf\")\n"
   ]
  },
  {
   "cell_type": "code",
   "execution_count": null,
   "metadata": {
    "scrolled": false
   },
   "outputs": [],
   "source": [
    "plot_correlation_analysis(df_closest, 'Epik scan', 'blue', 's', nsamples=10000)[0].savefig(\"closest_pka_epik_scan.pdf\")"
   ]
  },
  {
   "cell_type": "code",
   "execution_count": null,
   "metadata": {},
   "outputs": [],
   "source": [
    "np.random.choice(np.arange(12), size=12)"
   ]
  },
  {
   "cell_type": "code",
   "execution_count": null,
   "metadata": {},
   "outputs": [],
   "source": [
    "def add_uncertainty(df, pred_name):\n",
    "    df[\"Experiment +/- SEM\"] = df.apply(lambda row: ufloat(row[\"Experimental\"], row[\"Experimental SEM\"]), axis=1)\n",
    "    df[pred_name] = df.apply(lambda row: ufloat(row[\"Predicted\"], row[\"Predicted SEM\"]), axis=1)"
   ]
  },
  {
   "cell_type": "code",
   "execution_count": null,
   "metadata": {},
   "outputs": [],
   "source": [
    "add_uncertainty(df_closest, \"Epik closest +/- SEM\")\n",
    "add_uncertainty(df_hung, \"Epik hungarian +/- SEM\")\n",
    "add_uncertainty(df_align, \"Epik aligned +/- SEM\")"
   ]
  },
  {
   "cell_type": "code",
   "execution_count": null,
   "metadata": {},
   "outputs": [],
   "source": [
    "new_df = df_closest[[\"Molecule\", \"Experiment +/- SEM\", \"Epik closest +/- SEM\"]]\n"
   ]
  },
  {
   "cell_type": "code",
   "execution_count": null,
   "metadata": {},
   "outputs": [],
   "source": [
    "new_df"
   ]
  },
  {
   "cell_type": "markdown",
   "metadata": {},
   "source": [
    "## Jaguar type I"
   ]
  },
  {
   "cell_type": "code",
   "execution_count": null,
   "metadata": {},
   "outputs": [],
   "source": [
    "df_closest = pd.DataFrame(columns=[\"Molecule\", \"Experimental\", \"Experimental SEM\", \"Predicted\", \"Predicted SEM\", \"Cost\"])\n",
    "df_align = pd.DataFrame(columns=[\"Molecule\", \"Experimental\", \"Experimental SEM\", \"Predicted\", \"Predicted SEM\", \"Cost\"])\n",
    "df_hung =  pd.DataFrame(columns=[\"Molecule\", \"Experimental\", \"Experimental SEM\", \"Predicted\", \"Predicted SEM\", \"Cost\"])\n",
    "\n",
    "for molecule in range(24):\n",
    "    mol_name = \"SM{:02d}\".format(molecule+1)\n",
    "    print(mol_name)\n",
    "    experimental_pkas = get_experimental_pKa_data(mol_name)\n",
    "    predicted_pkas = get_typei_pka_data(mol_name, \"Jaguar/typeI-raw.csv\")\n",
    "    closest_match = closest_pka(experimental_pkas, predicted_pkas, array_rmse)\n",
    "    hung_match = hungarian_pka(experimental_pkas, predicted_pkas, array_rmse)\n",
    "    align_match = align_pka(experimental_pkas, predicted_pkas, array_rmse)\n",
    "    closest_match[\"Molecule\"] = mol_name\n",
    "    hung_match[\"Molecule\"] = mol_name\n",
    "    align_match[\"Molecule\"] = mol_name\n",
    "    df_closest = df_closest.append(closest_match, ignore_index=True)\n",
    "    df_hung = df_hung.append(hung_match, ignore_index=True)\n",
    "    df_align = df_align.append(align_match, ignore_index=True)\n",
    "    \n",
    "\n",
    "df_closest = df_closest.dropna(subset=[\"Experimental\"])\n",
    "df_hung = df_hung.dropna(subset=[\"Experimental\"])\n"
   ]
  },
  {
   "cell_type": "code",
   "execution_count": null,
   "metadata": {
    "scrolled": false
   },
   "outputs": [],
   "source": [
    "plot_correlation_analysis(df_closest, 'Jaguar pKa', 'green', 's', nsamples=10000)[0].savefig(\"closest_pka_jaguar.pdf\")"
   ]
  },
  {
   "cell_type": "markdown",
   "metadata": {},
   "source": [
    "## Epik microscopic pKa\n"
   ]
  },
  {
   "cell_type": "code",
   "execution_count": null,
   "metadata": {},
   "outputs": [],
   "source": [
    "df_closest = pd.DataFrame(columns=[\"Molecule\", \"Experimental\", \"Experimental SEM\", \"Predicted\", \"Predicted SEM\", \"Cost\"])\n",
    "df_align = pd.DataFrame(columns=[\"Molecule\", \"Experimental\", \"Experimental SEM\", \"Predicted\", \"Predicted SEM\", \"Cost\"])\n",
    "df_hung =  pd.DataFrame(columns=[\"Molecule\", \"Experimental\", \"Experimental SEM\", \"Predicted\", \"Predicted SEM\", \"Cost\"])\n",
    "\n",
    "for molecule in range(24):\n",
    "    mol_name = \"SM{:02d}\".format(molecule+1)\n",
    "    print(mol_name)\n",
    "    experimental_pkas = get_experimental_pKa_data(mol_name)\n",
    "    predicted_pkas = get_typei_pka_data(mol_name, \"Epik/typeI-raw-microscopic.csv\")\n",
    "    closest_match = closest_pka(experimental_pkas, predicted_pkas, array_rmse)\n",
    "    hung_match = hungarian_pka(experimental_pkas, predicted_pkas, array_rmse)\n",
    "    align_match = align_pka(experimental_pkas, predicted_pkas, array_rmse)\n",
    "    closest_match[\"Molecule\"] = mol_name\n",
    "    hung_match[\"Molecule\"] = mol_name\n",
    "    align_match[\"Molecule\"] = mol_name\n",
    "    df_closest = df_closest.append(closest_match, ignore_index=True)\n",
    "    df_hung = df_hung.append(hung_match, ignore_index=True)\n",
    "    df_align = df_align.append(align_match, ignore_index=True)\n",
    "    \n",
    "\n",
    "df_closest = df_closest.dropna(subset=[\"Experimental\"])\n",
    "df_hung = df_hung.dropna(subset=[\"Experimental\"])\n"
   ]
  },
  {
   "cell_type": "code",
   "execution_count": null,
   "metadata": {
    "scrolled": false
   },
   "outputs": [],
   "source": [
    "plot_correlation_analysis(df_closest, 'Epik micropKa', 'red', 's', nsamples=10000)[0].savefig(\"closest_pka_epik_micropka.pdf\")"
   ]
  },
  {
   "cell_type": "code",
   "execution_count": null,
   "metadata": {},
   "outputs": [],
   "source": []
  },
  {
   "cell_type": "code",
   "execution_count": null,
   "metadata": {},
   "outputs": [],
   "source": []
  },
  {
   "cell_type": "code",
   "execution_count": null,
   "metadata": {},
   "outputs": [],
   "source": [
    "x = np.arange(12\n",
    "             )"
   ]
  },
  {
   "cell_type": "code",
   "execution_count": null,
   "metadata": {},
   "outputs": [],
   "source": [
    "y = 17"
   ]
  },
  {
   "cell_type": "code",
   "execution_count": null,
   "metadata": {},
   "outputs": [],
   "source": [
    "x - y"
   ]
  },
  {
   "cell_type": "code",
   "execution_count": null,
   "metadata": {},
   "outputs": [],
   "source": [
    "y - x"
   ]
  },
  {
   "cell_type": "code",
   "execution_count": null,
   "metadata": {},
   "outputs": [],
   "source": [
    "np.percentile(x, 30, axis=0)"
   ]
  },
  {
   "cell_type": "code",
   "execution_count": null,
   "metadata": {},
   "outputs": [],
   "source": [
    "np.percentile(np.arange(11), 30, axis=0)\n"
   ]
  },
  {
   "cell_type": "code",
   "execution_count": null,
   "metadata": {},
   "outputs": [],
   "source": []
  }
 ],
 "metadata": {
  "kernelspec": {
   "display_name": "Python 3",
   "language": "python",
   "name": "python3"
  },
  "language_info": {
   "codemirror_mode": {
    "name": "ipython",
    "version": 3
   },
   "file_extension": ".py",
   "mimetype": "text/x-python",
   "name": "python",
   "nbconvert_exporter": "python",
   "pygments_lexer": "ipython3",
   "version": "3.6.5"
  }
 },
 "nbformat": 4,
 "nbformat_minor": 2
}
