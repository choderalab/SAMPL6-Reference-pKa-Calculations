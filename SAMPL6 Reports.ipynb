{
 "cells": [
  {
   "cell_type": "code",
   "execution_count": 1,
   "metadata": {},
   "outputs": [],
   "source": [
    "from titrato.reports import SAMPL6DataProvider, SAMPL6ReportGenerator\n"
   ]
  },
  {
   "cell_type": "code",
   "execution_count": 2,
   "metadata": {},
   "outputs": [],
   "source": [
    "epiktypei = SAMPL6DataProvider(\"Epik/typeI-raw-microscopic.csv\", \"typei\", \"Epik-micropka\", bootstrap_options={\"n_samples\": 1})\n",
    "epiktypeii = SAMPL6DataProvider(\"Epik/typeII-raw-microscopic.csv\", \"typeii\", \"Epik-free-energy\")\n",
    "epiktypeiii = SAMPL6DataProvider(\"Epik/typeIII-raw-sequential.csv\", \"typeiii\", \"Epik-scan\", bootstrap_options={\"n_samples\": 1}, typeiii_charge_file=\"Epik/output/sequential/charges_at_pH_7.csv\")\n",
    "jaguartypei = SAMPL6DataProvider(\"Jaguar/typeI-raw.csv\", \"typei\", \"Jaguar-pKa\", bootstrap_options={\"n_samples\": 1})\n",
    "exp = SAMPL6DataProvider(\"SAMPL6_experimental_pkas.csv\", \"exp\", \"Experiment\", bootstrap_options={\"n_samples\": 3})"
   ]
  },
  {
   "cell_type": "code",
   "execution_count": 3,
   "metadata": {},
   "outputs": [],
   "source": [
    "predictions = [epiktypei, jaguartypei, epiktypeii, epiktypeiii]\n",
    "testmol=\"SM06\""
   ]
  },
  {
   "cell_type": "code",
   "execution_count": 4,
   "metadata": {
    "scrolled": false
   },
   "outputs": [
    {
     "name": "stderr",
     "output_type": "stream",
     "text": [
      "C:\\Users\\rustenba\\AppData\\Local\\Continuum\\miniconda3\\envs\\pka-model\\lib\\site-packages\\titrato\\titrato.py:262: RuntimeWarning: divide by zero encountered in log\n",
      "  free_energies = - np.log(populations)\n",
      "C:\\Users\\rustenba\\AppData\\Local\\Continuum\\miniconda3\\envs\\pka-model\\lib\\site-packages\\titrato\\titrato.py:262: RuntimeWarning: invalid value encountered in log\n",
      "  free_energies = - np.log(populations)\n"
     ]
    }
   ],
   "source": [
    "reporter = SAMPL6ReportGenerator(testmol, exp, predictions, \"Images/Molecules/{}.pdf\".format(testmol))\n",
    "reporter.make_all_plots()\n",
    "reporter.generate_latex()\n",
    "reporter.save_all(\"TestImages\", ext=\"pdf\")\n",
    "reporter.close()"
   ]
  },
  {
   "cell_type": "code",
   "execution_count": null,
   "metadata": {},
   "outputs": [],
   "source": [
    "\"{:+d}\".format(-12)"
   ]
  },
  {
   "cell_type": "code",
   "execution_count": 5,
   "metadata": {},
   "outputs": [
    {
     "name": "stderr",
     "output_type": "stream",
     "text": [
      "C:\\Users\\rustenba\\AppData\\Local\\Continuum\\miniconda3\\envs\\pka-model\\lib\\site-packages\\titrato\\titrato.py:262: RuntimeWarning: divide by zero encountered in log\n",
      "  free_energies = - np.log(populations)\n",
      "C:\\Users\\rustenba\\AppData\\Local\\Continuum\\miniconda3\\envs\\pka-model\\lib\\site-packages\\titrato\\titrato.py:264: RuntimeWarning: invalid value encountered in subtract\n",
      "  return free_energies - free_energies[0]\n",
      "C:\\Users\\rustenba\\AppData\\Local\\Continuum\\miniconda3\\envs\\pka-model\\lib\\site-packages\\titrato\\titrato.py:531: RuntimeWarning: invalid value encountered in subtract\n",
      "  self.free_energies -= np.squeeze(self.free_energies[state_index])\n",
      "C:\\Users\\rustenba\\AppData\\Local\\Continuum\\miniconda3\\envs\\pka-model\\lib\\site-packages\\titrato\\titrato.py:262: RuntimeWarning: invalid value encountered in log\n",
      "  free_energies = - np.log(populations)\n"
     ]
    }
   ],
   "source": [
    "for ext in [\"pdf\"]:\n",
    "    for molecule in range(1,25):\n",
    "        mol_id = \"SM{:02d}\".format(molecule)    \n",
    "        reporter = SAMPL6ReportGenerator(mol_id, exp, predictions, f\"Images/Molecules/{mol_id}.{ext}\")\n",
    "        reporter.make_all_plots()\n",
    "        reporter.generate_latex()\n",
    "        reporter.save_all(f\"{ext.upper()}Reports\", ext=ext)\n",
    "        reporter.close()"
   ]
  },
  {
   "cell_type": "code",
   "execution_count": null,
   "metadata": {},
   "outputs": [],
   "source": [
    "x = epiktypei.load(testmol)\n",
    "y = jaguartypei.load(testmol)"
   ]
  },
  {
   "cell_type": "code",
   "execution_count": null,
   "metadata": {},
   "outputs": [],
   "source": [
    "import matplotlib.pyplot as plt\n"
   ]
  },
  {
   "cell_type": "code",
   "execution_count": null,
   "metadata": {
    "scrolled": true
   },
   "outputs": [],
   "source": [
    "for idx, state in enumerate(y.charges):\n",
    "    plt.plot(y.populations[idx], label=state)\n",
    "plt.legend()\n",
    "\n"
   ]
  },
  {
   "cell_type": "code",
   "execution_count": null,
   "metadata": {},
   "outputs": [],
   "source": [
    "import numpy as np"
   ]
  },
  {
   "cell_type": "code",
   "execution_count": null,
   "metadata": {},
   "outputs": [],
   "source": [
    "x = np.asarray([0, 1, 1 , 2, 3,3,0,4,1,1,1])"
   ]
  },
  {
   "cell_type": "code",
   "execution_count": null,
   "metadata": {},
   "outputs": [],
   "source": [
    "np.where(x==12).size"
   ]
  },
  {
   "cell_type": "code",
   "execution_count": null,
   "metadata": {},
   "outputs": [],
   "source": [
    "for y in np.where(x==12):\n",
    "    print(y)"
   ]
  },
  {
   "cell_type": "code",
   "execution_count": null,
   "metadata": {},
   "outputs": [],
   "source": [
    "list(np.squeeze(np.where(x==4)))"
   ]
  },
  {
   "cell_type": "code",
   "execution_count": null,
   "metadata": {},
   "outputs": [],
   "source": []
  }
 ],
 "metadata": {
  "kernelspec": {
   "display_name": "Python 3",
   "language": "python",
   "name": "python3"
  },
  "language_info": {
   "codemirror_mode": {
    "name": "ipython",
    "version": 3
   },
   "file_extension": ".py",
   "mimetype": "text/x-python",
   "name": "python",
   "nbconvert_exporter": "python",
   "pygments_lexer": "ipython3",
   "version": "3.6.5"
  }
 },
 "nbformat": 4,
 "nbformat_minor": 2
}
