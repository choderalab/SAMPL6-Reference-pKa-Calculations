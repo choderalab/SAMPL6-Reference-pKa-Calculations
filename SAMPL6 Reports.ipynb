{
 "cells": [
  {
   "cell_type": "code",
   "execution_count": 1,
   "metadata": {},
   "outputs": [],
   "source": [
    "from titrato.plots import SAMPL6DataProvider, SAMPL6ReportGenerator"
   ]
  },
  {
   "cell_type": "code",
   "execution_count": 2,
   "metadata": {},
   "outputs": [],
   "source": [
    "epiktypei = SAMPL6DataProvider(\"Epik/typeI-raw-microscopic.csv\", \"typei\", \"Epik-TypeI\", bootstrap_options={\"n_samples\": 1})\n",
    "epiktypeii = SAMPL6DataProvider(\"Epik/typeII-raw-microscopic.csv\", \"typeii\", \"Epik-TypeII\", {\"charge_file\" : \"charges_per_state.csv\"})\n",
    "epiktypeiii = SAMPL6DataProvider(\"Epik/typeIII-raw-sequential.csv\", \"typeiii\", \"Epik-TypeIII\", bootstrap_options={\"n_samples\": 1})\n",
    "jaguartypei = SAMPL6DataProvider(\"Jaguar/typeI-raw.csv\", \"typei\", \"Jaguar-TypeI\", bootstrap_options={\"n_samples\": 5})\n",
    "exp = SAMPL6DataProvider(\"SAMPL6_experimental_pkas.csv\", \"exp\", \"Experimental\", bootstrap_options={\"n_samples\": 3})"
   ]
  },
  {
   "cell_type": "code",
   "execution_count": 3,
   "metadata": {},
   "outputs": [],
   "source": [
    "predictions = [epiktypei, jaguartypei, epiktypeii, epiktypeiii]\n"
   ]
  },
  {
   "cell_type": "code",
   "execution_count": 4,
   "metadata": {
    "scrolled": true
   },
   "outputs": [
    {
     "name": "stderr",
     "output_type": "stream",
     "text": [
      "C:\\Users\\rustenba\\AppData\\Local\\Continuum\\miniconda3\\envs\\pka-model\\lib\\site-packages\\titrato\\titrato.py:262: RuntimeWarning: divide by zero encountered in log\n",
      "  free_energies = - np.log(populations)\n",
      "C:\\Users\\rustenba\\AppData\\Local\\Continuum\\miniconda3\\envs\\pka-model\\lib\\site-packages\\titrato\\titrato.py:264: RuntimeWarning: invalid value encountered in subtract\n",
      "  return free_energies - free_energies[0]\n"
     ]
    }
   ],
   "source": [
    "reporter = SAMPL6ReportGenerator(\"SM01\", exp, predictions, \"Images/Molecules/{}.png\".format(\"SM01\"))\n",
    "reporter.make_all_plots()\n",
    "reporter.generate_latex()\n",
    "reporter.save_all(\"png\", \"TestImages\")\n",
    "reporter.close()"
   ]
  },
  {
   "cell_type": "code",
   "execution_count": 5,
   "metadata": {},
   "outputs": [],
   "source": [
    "# This one takes a while"
   ]
  },
  {
   "cell_type": "code",
   "execution_count": 6,
   "metadata": {},
   "outputs": [
    {
     "name": "stderr",
     "output_type": "stream",
     "text": [
      "C:\\Users\\rustenba\\AppData\\Local\\Continuum\\miniconda3\\envs\\pka-model\\lib\\site-packages\\titrato\\titrato.py:262: RuntimeWarning: divide by zero encountered in log\n",
      "  free_energies = - np.log(populations)\n",
      "C:\\Users\\rustenba\\AppData\\Local\\Continuum\\miniconda3\\envs\\pka-model\\lib\\site-packages\\titrato\\titrato.py:264: RuntimeWarning: invalid value encountered in subtract\n",
      "  return free_energies - free_energies[0]\n",
      "C:\\Users\\rustenba\\AppData\\Local\\Continuum\\miniconda3\\envs\\pka-model\\lib\\site-packages\\titrato\\titrato.py:262: RuntimeWarning: invalid value encountered in log\n",
      "  free_energies = - np.log(populations)\n"
     ]
    }
   ],
   "source": [
    "for molecule in range(1,25):\n",
    "    mol_id = \"SM{:02d}\".format(molecule)    \n",
    "    reporter = SAMPL6ReportGenerator(mol_id, exp, predictions, \"Images/Molecules/{}.png\".format(mol_id))\n",
    "    reporter.make_all_plots()\n",
    "    reporter.generate_latex()\n",
    "    reporter.save_all(\"png\", \"Reports\")\n",
    "    reporter.close()"
   ]
  },
  {
   "cell_type": "code",
   "execution_count": null,
   "metadata": {},
   "outputs": [],
   "source": []
  }
 ],
 "metadata": {
  "kernelspec": {
   "display_name": "Python 3",
   "language": "python",
   "name": "python3"
  },
  "language_info": {
   "codemirror_mode": {
    "name": "ipython",
    "version": 3
   },
   "file_extension": ".py",
   "mimetype": "text/x-python",
   "name": "python",
   "nbconvert_exporter": "python",
   "pygments_lexer": "ipython3",
   "version": "3.6.5"
  }
 },
 "nbformat": 4,
 "nbformat_minor": 2
}
