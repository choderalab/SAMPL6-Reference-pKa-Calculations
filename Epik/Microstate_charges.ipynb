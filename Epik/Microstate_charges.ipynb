{
 "cells": [
  {
   "cell_type": "markdown",
   "metadata": {},
   "source": [
    "This notebook generates a list of charges for each microstate."
   ]
  },
  {
   "cell_type": "code",
   "execution_count": 4,
   "metadata": {
    "nbpresent": {
     "id": "798af2f7-234c-4d13-8b46-a2d55ed0e840"
    },
    "slideshow": {
     "slide_type": "skip"
    }
   },
   "outputs": [],
   "source": [
    "import os\n",
    "os.environ[\"OE_LICENSE\"] = \"C:\\\\Users\\\\rustenba\\\\Downloads\\\\oe_license.txt\"\n",
    "\n",
    "from openeye import oechem\n",
    "import openeye\n",
    "import oenotebook as oenb\n",
    "import csv\n",
    "\n",
    "from pathlib import Path\n",
    "import pandas as pd\n",
    "import numpy as np\n",
    "\n",
    "if not openeye.OEChemIsLicensed():\n",
    "    raise RunTimeError(\"Can't find a valid OpenEye license\")"
   ]
  },
  {
   "cell_type": "markdown",
   "metadata": {},
   "source": [
    "### Loading microstates from SAMPL6 files\n",
    "\n",
    "SAMPL6 microstate definitions are loaded into a dictionary using `load_microstate_dictionary`.\n",
    "\n",
    "By default it uses from the files at www.github.com/MobleyLab/SAMPL6 , a local copy is stored in the microstates folder.\n",
    "\n",
    "The states are read in as smiles. For a proper comparison of microstates, explicit hydrogens are added to the molecules using the `add_h` function.\n",
    "\n"
   ]
  },
  {
   "cell_type": "code",
   "execution_count": 28,
   "metadata": {
    "nbpresent": {
     "id": "7c90af20-65e2-4b29-a198-687b2f813133"
    },
    "slideshow": {
     "slide_type": "slide"
    }
   },
   "outputs": [],
   "source": [
    "def add_h(mol: oechem.OEMol):\n",
    "    \"\"\"Add explicit hydrogens to a molecule\"\"\"\n",
    "    for atom in mol.GetAtoms():\n",
    "        oechem.OEAddExplicitHydrogens(mol, atom)\n",
    "\n",
    "def total_charge(mol: oechem.OEMol):\n",
    "    \"\"\"Sum over the formal charges in the molecule to return the total\"\"\"\n",
    "    total = 0.0\n",
    "    for atom in mol.GetAtoms():        \n",
    "        total += atom.GetFormalCharge()\n",
    "    return int(total)\n",
    "        \n",
    "def load_microstate_dictionary(sampl_id: str, microstate_folder: str= \"./microstates/\"):\n",
    "    \"\"\"Load a dictionary of microstates as defined by SAMPL from the microstate files.\n",
    "    \n",
    "    Parameters\n",
    "    ----------\n",
    "    sampl_id - the identifier for the molecule in sampl, e.g. SM12 \n",
    "    \n",
    "    Returns\n",
    "    -------\n",
    "    dict - key : microstate_id, value : oe_mol\n",
    "    \"\"\"\n",
    "\n",
    "    microstates = pd.DataFrame(columns=[\"Microstate\", \"Microstate ID\", \"Charge\"])\n",
    "\n",
    "    # Locate the file containing state definitions\n",
    "    filename = \"{}_microstates.csv\".format(sampl_id)\n",
    "    full_path = os.path.join(microstate_folder, filename)\n",
    "    mypath = Path(full_path)\n",
    "    if not mypath.is_file():\n",
    "        raise ValueError(\"No microstate definitions were found for molecule {}. Check for typos.\".format(sampl_id))\n",
    "    \n",
    "    # SAMPL6 CSV files are not OpenEye compatible, so instead we read the csv line by line and translate the smiles.\n",
    "    with open(full_path, 'r') as csvfile:\n",
    "        csvreader = csv.DictReader(csvfile, delimiter=',', quotechar='\"')\n",
    "        \n",
    "        for row in csvreader:\n",
    "            microstate = dict()\n",
    "            key = row['microstate ID']\n",
    "            val = oechem.OEGraphMol()\n",
    "            oechem.OESmilesToMol(val, row['canonical isomeric SMILES'])\n",
    "            add_h(val)\n",
    "            \n",
    "            microstate[\"Microstate\"] = val            \n",
    "            microstate[\"Microstate ID\"] = key\n",
    "            microstate[\"Charge\"] = total_charge(val)\n",
    "            microstates = microstates.append(microstate, ignore_index=True)\n",
    "            \n",
    "    return microstates"
   ]
  },
  {
   "cell_type": "code",
   "execution_count": 29,
   "metadata": {
    "scrolled": false
   },
   "outputs": [],
   "source": [
    "df = pd.DataFrame(columns=[\"Microstate\", \"Microstate ID\", \"Charge\", \"Molecule\"])\n",
    "\n",
    "for mol in range(24):\n",
    "    mol_name = \"SM{:02d}\".format(mol+1)\n",
    "    new_df = load_microstate_dictionary(mol_name)\n",
    "    new_df[\"Molecule\"] = mol_name\n",
    "    df = df.append(new_df, ignore_index=True)\n",
    "\n",
    "df[[\"Molecule\", \"Microstate ID\", \"Charge\"]].to_csv(\"../charges_per_state.csv\", index=False)\n"
   ]
  },
  {
   "cell_type": "code",
   "execution_count": null,
   "metadata": {},
   "outputs": [],
   "source": []
  },
  {
   "cell_type": "code",
   "execution_count": null,
   "metadata": {},
   "outputs": [],
   "source": []
  }
 ],
 "metadata": {
  "anaconda-cloud": {},
  "celltoolbar": "Raw Cell Format",
  "kernelspec": {
   "display_name": "Python 3",
   "language": "python",
   "name": "python3"
  },
  "language_info": {
   "codemirror_mode": {
    "name": "ipython",
    "version": 3
   },
   "file_extension": ".py",
   "mimetype": "text/x-python",
   "name": "python",
   "nbconvert_exporter": "python",
   "pygments_lexer": "ipython3",
   "version": "3.6.5"
  },
  "nbpresent": {
   "slides": {
    "11336a44-91ef-4e54-a572-b17fbfd17ab7": {
     "id": "11336a44-91ef-4e54-a572-b17fbfd17ab7",
     "prev": "74c7abc4-a950-40a6-a94a-b2d02933fa99",
     "regions": {
      "82283a7e-bf2a-4e3b-a01b-d2e784548340": {
       "attrs": {
        "height": 0.8,
        "width": 0.8,
        "x": 0.1,
        "y": 0.1
       },
       "content": {
        "cell": "c1245430-f5c4-4513-9185-6b620adbec4b",
        "part": "whole"
       },
       "id": "82283a7e-bf2a-4e3b-a01b-d2e784548340"
      }
     }
    },
    "262aaf77-d040-415c-9b26-ed92f37d2969": {
     "id": "262aaf77-d040-415c-9b26-ed92f37d2969",
     "prev": "b302fb46-1606-4324-b1f7-82f6e7592297",
     "regions": {
      "1918312d-4549-4e12-9d36-433d7cc15297": {
       "attrs": {
        "height": 0.4,
        "width": 0.8,
        "x": 0.1,
        "y": 0.5
       },
       "content": {
        "cell": "2c85d28b-386d-4373-bbe5-d9e9644c6efa",
        "part": "whole"
       },
       "id": "1918312d-4549-4e12-9d36-433d7cc15297"
      },
      "b8a941c4-3ac9-400c-9e75-5013edbccbd1": {
       "attrs": {
        "height": 0.8,
        "width": 0.8,
        "x": 0.1,
        "y": 0.1
       },
       "content": {
        "cell": "ad8345c1-c5a1-435c-b3a5-dab3a89da68a",
        "part": "whole"
       },
       "id": "b8a941c4-3ac9-400c-9e75-5013edbccbd1"
      }
     }
    },
    "3d312b49-0306-41b6-aa24-735d01154b25": {
     "id": "3d312b49-0306-41b6-aa24-735d01154b25",
     "prev": "11336a44-91ef-4e54-a572-b17fbfd17ab7",
     "regions": {
      "130af865-fb16-4675-b6b6-6da06f914b45": {
       "attrs": {
        "height": 0.8,
        "width": 0.8,
        "x": 0.1,
        "y": 0.1
       },
       "content": {
        "cell": "d0887ceb-d177-4709-b0fa-53ea647dbb67",
        "part": "whole"
       },
       "id": "130af865-fb16-4675-b6b6-6da06f914b45"
      }
     }
    },
    "74c7abc4-a950-40a6-a94a-b2d02933fa99": {
     "id": "74c7abc4-a950-40a6-a94a-b2d02933fa99",
     "prev": "d0a930b6-060e-4ba9-a6a6-6b63cf5c6df9",
     "regions": {
      "fe9cc7c7-44f0-4c96-9b2f-27bf737ffe5e": {
       "attrs": {
        "height": 0.8,
        "width": 0.8,
        "x": 0.1,
        "y": 0.1
       },
       "content": {
        "cell": "68395446-476c-42ee-ae6b-87b1eb31ab4b",
        "part": "whole"
       },
       "id": "fe9cc7c7-44f0-4c96-9b2f-27bf737ffe5e"
      }
     }
    },
    "7d25bacc-adc8-4b84-bba9-ce1858b37501": {
     "id": "7d25bacc-adc8-4b84-bba9-ce1858b37501",
     "prev": null,
     "regions": {
      "e2421499-3c63-40e1-a436-87c8eaff03b0": {
       "attrs": {
        "height": 0.8,
        "width": 0.8,
        "x": 0.1,
        "y": 0.1
       },
       "content": {
        "cell": "7c90af20-65e2-4b29-a198-687b2f813133",
        "part": "whole"
       },
       "id": "e2421499-3c63-40e1-a436-87c8eaff03b0"
      }
     }
    },
    "b302fb46-1606-4324-b1f7-82f6e7592297": {
     "id": "b302fb46-1606-4324-b1f7-82f6e7592297",
     "prev": "3d312b49-0306-41b6-aa24-735d01154b25",
     "regions": {
      "4f6e9936-d48b-4525-90f0-9572cc643178": {
       "attrs": {
        "height": 0.4,
        "width": 0.8,
        "x": 0.1,
        "y": 0.5
       },
       "content": {
        "cell": "ddcbef9f-801c-4755-9176-9ca69042de6f",
        "part": "whole"
       },
       "id": "4f6e9936-d48b-4525-90f0-9572cc643178"
      },
      "81e661a8-0e14-47ae-9d9b-d2585d4d5fa9": {
       "attrs": {
        "height": 0.4,
        "width": 0.8,
        "x": 0.1,
        "y": 0.5
       },
       "content": {
        "cell": "35acbc4b-c281-42c1-be30-350a6f3d911e",
        "part": "whole"
       },
       "id": "81e661a8-0e14-47ae-9d9b-d2585d4d5fa9"
      },
      "92f99530-5d11-41d5-9ded-25f53829bd1b": {
       "attrs": {
        "height": 0.4,
        "width": 0.8,
        "x": 0.1,
        "y": 0.5
       },
       "content": {
        "cell": "4ae0352a-cbc5-41bc-bc97-30944ab011a4",
        "part": "whole"
       },
       "id": "92f99530-5d11-41d5-9ded-25f53829bd1b"
      },
      "d9bbcc6e-cafe-41f9-887f-c160bbaf94c8": {
       "attrs": {
        "height": 0.8,
        "width": 0.8,
        "x": 0.1,
        "y": 0.1
       },
       "content": {
        "cell": "269fca74-d5dd-486d-8da8-90aaab0830fc",
        "part": "whole"
       },
       "id": "d9bbcc6e-cafe-41f9-887f-c160bbaf94c8"
      }
     }
    },
    "d0a930b6-060e-4ba9-a6a6-6b63cf5c6df9": {
     "id": "d0a930b6-060e-4ba9-a6a6-6b63cf5c6df9",
     "prev": "7d25bacc-adc8-4b84-bba9-ce1858b37501",
     "regions": {
      "5f1ddb33-13fc-4a34-af37-2ce5ed724ba0": {
       "attrs": {
        "height": 0.8,
        "width": 0.8,
        "x": 0.1,
        "y": 0.1
       },
       "content": {
        "cell": "886f68eb-71df-42f0-b77a-971fe3125589",
        "part": "whole"
       },
       "id": "5f1ddb33-13fc-4a34-af37-2ce5ed724ba0"
      }
     }
    }
   },
   "themes": {}
  }
 },
 "nbformat": 4,
 "nbformat_minor": 2
}
