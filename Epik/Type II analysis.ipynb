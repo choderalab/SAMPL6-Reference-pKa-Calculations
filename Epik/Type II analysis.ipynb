{
 "cells": [
  {
   "cell_type": "code",
   "execution_count": 1,
   "metadata": {
    "collapsed": false,
    "nbpresent": {
     "id": "798af2f7-234c-4d13-8b46-a2d55ed0e840"
    },
    "slideshow": {
     "slide_type": "skip"
    }
   },
   "outputs": [],
   "source": [
    "from openeye import oechem\n",
    "import openeye\n",
    "import oenotebook as oenb\n",
    "import csv\n",
    "import os\n",
    "from pathlib import Path\n",
    "import pandas as pd\n",
    "import numpy as np\n",
    "\n",
    "if not openeye.OEChemIsLicensed():\n",
    "    raise RunTimeError(\"Can't find a valid OpenEye license\")"
   ]
  },
  {
   "cell_type": "markdown",
   "metadata": {},
   "source": [
    "### Loading microstates from SAMPL6 files\n",
    "\n",
    "SAMPL6 microstate definitions are loaded into a dictionary using `load_microstate_dictionary`.\n",
    "\n",
    "By default it uses from the files at www.github.com/MobleyLab/SAMPL6 , a local copy is stored in the microstates folder.\n",
    "\n",
    "The states are read in as smiles. For a proper comparison of microstates, explicit hydrogens are added to the molecules using the `add_h` function.\n",
    "\n"
   ]
  },
  {
   "cell_type": "code",
   "execution_count": 2,
   "metadata": {
    "collapsed": true,
    "nbpresent": {
     "id": "7c90af20-65e2-4b29-a198-687b2f813133"
    },
    "slideshow": {
     "slide_type": "slide"
    }
   },
   "outputs": [],
   "source": [
    "def add_h(mol: oechem.OEMol):\n",
    "    \"\"\"Add explicit hydrogens to a molecule\"\"\"\n",
    "    for atom in mol.GetAtoms():\n",
    "        oechem.OEAddExplicitHydrogens(mol, atom)\n",
    "\n",
    "def load_microstate_dictionary(sampl_id: str, microstate_folder: str= \"./microstates/\"):\n",
    "    \"\"\"Load a dictionary of microstates as defined by SAMPL from the microstate files.\n",
    "    \n",
    "    Parameters\n",
    "    ----------\n",
    "    sampl_id - the identifier for the molecule in sampl, e.g. SM12 \n",
    "    \n",
    "    Returns\n",
    "    -------\n",
    "    dict - key : microstate_id, value : oe_mol\n",
    "    \"\"\"\n",
    "\n",
    "    microstates = dict()\n",
    "\n",
    "    # Locate the file containing state definitions\n",
    "    filename = \"{}_microstates.csv\".format(sampl_id)\n",
    "    full_path = os.path.join(microstate_folder, filename)\n",
    "    mypath = Path(full_path)\n",
    "    if not mypath.is_file():\n",
    "        raise ValueError(\"No microstate definitions were found for molecule {}. Check for typos.\".format(sampl_id))\n",
    "    \n",
    "    # SAMPL6 CSV files are not OpenEye compatible, so instead we read the csv line by line and translate the smiles.\n",
    "    with open(full_path, 'r') as csvfile:\n",
    "        csvreader = csv.DictReader(csvfile, delimiter=',', quotechar='\"')\n",
    "        \n",
    "        for row in csvreader:\n",
    "            key = row['microstate ID']\n",
    "            val = oechem.OEGraphMol()\n",
    "            oechem.OESmilesToMol(val, row['canonical isomeric SMILES'])\n",
    "            add_h(val)\n",
    "            microstates[key] = val\n",
    "            \n",
    "    return microstates"
   ]
  },
  {
   "cell_type": "markdown",
   "metadata": {},
   "source": [
    "### Loading results from Epik\n",
    "\n",
    "This function loads the results for a single SAMPL6 molecule at a single pH function. By default it uses\n",
    "the `output/microscopic` folder, which contains pKa predictions between 3.0 and 11.0 for states with a population of > 10-5"
   ]
  },
  {
   "cell_type": "code",
   "execution_count": 3,
   "metadata": {
    "collapsed": false,
    "nbpresent": {
     "id": "886f68eb-71df-42f0-b77a-971fe3125589"
    },
    "slideshow": {
     "slide_type": "slide"
    }
   },
   "outputs": [],
   "source": [
    "def load_result(sampl_id:str, pH_str: str, epik_output_folder:str=\"./output/microscopic/\"):\n",
    "    \"\"\"Load a single result from Epik files using SAMPL ID, string of the pH with 1 decimal point.\n",
    "    \n",
    "    Returns\n",
    "    -------\n",
    "    list - OEMols with SD tags containing epik information, every OEMol represents one microstate\n",
    "    \"\"\"\n",
    "    results = list()\n",
    "        \n",
    "    \n",
    "    # Locate the file containing state definitions\n",
    "    filename = \"{}.epik.{}.sdf\".format(sampl_id, pH_str)\n",
    "    full_path = os.path.join(epik_output_folder, sampl_id, filename)\n",
    "    mypath = Path(full_path)\n",
    "    if not mypath.is_file():\n",
    "        raise ValueError(\"No result file was found for molecule {} at pH {}. Check for typos.\".format(sampl_id, pH_str))\n",
    "    \n",
    "    ifs = oechem.oemolistream()\n",
    "    \n",
    "    if ifs.open(full_path):\n",
    "        if not oechem.OEIsSDDataFormat(ifs.GetFormat()):\n",
    "            raise IOError(\"No SD data\")\n",
    "    \n",
    "        # Need graphmols for SDF loading\n",
    "        for mol in ifs.GetOEGraphMols():\n",
    "            #add_h(mol)\n",
    "            newmol = oechem.OEGraphMol(mol)\n",
    "            results.append(newmol)\n",
    "            # print(newmol.HasSDData())\n",
    "\n",
    "        ifs.close()\n",
    "    else:\n",
    "        raise IOError(\"Could not read input file.\")\n",
    "    return results"
   ]
  },
  {
   "cell_type": "code",
   "execution_count": 4,
   "metadata": {
    "collapsed": true,
    "nbpresent": {
     "id": "68395446-476c-42ee-ae6b-87b1eb31ab4b"
    },
    "slideshow": {
     "slide_type": "slide"
    }
   },
   "outputs": [],
   "source": [
    "def are_equal_microstates(mol1: oechem.OEGraphMol, mol2: oechem.OEGraphMol, verbose: bool=False):\n",
    "    \"\"\" Check if two supplied OE(Graph)Mol objects have the same molecular microstate present.\n",
    "    \n",
    "    If all atoms and bonds are matched in MCSS returns True. Ignores charges and bond order\n",
    "    to deal with chirality and geometry differences as well as resonance structures\n",
    "    (which we won't consider as different).\n",
    "    \n",
    "    Returns\n",
    "    -------\n",
    "    bool    \n",
    "    \"\"\"\n",
    "    # Copy input\n",
    "    pattern = oechem.OEGraphMol(mol1) \n",
    "    target = oechem.OEGraphMol(mol2)\n",
    "    \n",
    "    # Atoms are equal if they have same atomic number (so explicit Hydrogens are needed as well for a match)\n",
    "    atomexpr = oechem.OEExprOpts_AtomicNumber&oechem.OEExprOpts_HCount\n",
    "     # single or double bonds are considered identical (resonance,chirality fix)\n",
    "    bondexpr = oechem.OEExprOpts_EqSingleDouble\n",
    "    # create maximum common substructure object\n",
    "#     mcss = oechem.OEMCSSearch(pattern, atomexpr, bondexpr, oechem.OEMCSType_Exhaustive)\n",
    "    mcss = oechem.OEMCSSearch(pattern, atomexpr, bondexpr, oechem.OEMCSType_Approximate)\n",
    "\n",
    "    \n",
    "    # set scoring function\n",
    "    mcss.SetMCSFunc(oechem.OEMCSMaxAtomsCompleteCycles())\n",
    "    # ignore matches smaller than 6 atoms\n",
    "    mcss.SetMinAtoms(6)\n",
    "    unique = True\n",
    "\n",
    "\n",
    "    # loop over matches\n",
    "    count = 0\n",
    "    match = oechem.OEMol()\n",
    "    for i, match in enumerate(mcss.Match(target, unique)):\n",
    "        count = i + 1\n",
    "        if verbose:\n",
    "            print(\"Match %d:\" % (count))\n",
    "    \n",
    "            print( \"Num atoms in match %d\" % match.NumAtoms())\n",
    "            print( \"Num atoms in mol1 %d\" % pattern.NumAtoms())\n",
    "            print( \"Num atoms in mol2 %d\" % target.NumAtoms())\n",
    "\n",
    "\n",
    "    # check if there is only single match\n",
    "    if (count > 1):\n",
    "        if verbose: print(\"Warning! There are multiple matches.\")\n",
    "    elif count == 0:\n",
    "        if verbose: print(\"No match\")\n",
    "        \n",
    "    m_num = match.NumAtoms()\n",
    "    p_num = pattern.NumAtoms()\n",
    "    t_num = target.NumAtoms()\n",
    "        \n",
    "        \n",
    "    return m_num == p_num == t_num\n",
    "\n",
    "\n",
    "def match_subset(pattern: oechem.OEGraphMol, target:oechem.OEGraphMol):\n",
    "    \"\"\"Check if target is a subset of pattern.\"\"\"\n",
    "    # Atoms are equal if they have same atomic number (so explicit Hydrogens are needed as well for a match)\n",
    "    atomexpr = oechem.OEExprOpts_AtomicNumber\n",
    "     # single or double bonds are considered identical (resonance,chirality fix)\n",
    "    bondexpr = oechem.OEExprOpts_EqSingleDouble\n",
    "    ss = oechem.OESubSearch(pattern, atomexpr, bondexpr )\n",
    "    oechem.OEPrepareSearch(target, ss)\n",
    "\n",
    "    return ss.SingleMatch(target)\n",
    "\n",
    "def match_microstates(mol1, mol2):\n",
    "    \"\"\"If both states are contained in each other, they're the same.\"\"\"\n",
    "    return match_subset(mol1, mol2) and match_subset(mol2, mol1)\n",
    "\n",
    "# Testing\n",
    "\n",
    "\n",
    "# electrons shifted for benzene\n",
    "mol1 = oechem.OEMol()\n",
    "oechem.OESmilesToMol(mol1, \"C1=C[CH-]=CC=[CH+]1\")\n",
    "add_h(mol1)\n",
    "\n",
    "# regular benzene\n",
    "mol2 = oechem.OEMol()\n",
    "oechem.OESmilesToMol(mol2, \"c1ccccc1\")\n",
    "add_h(mol2)\n",
    "\n",
    "# protonated benzene\n",
    "mol3 = oechem.OEMol()\n",
    "oechem.OESmilesToMol(mol3, \"C1=C[CH2-]=CC=[C+]1\")\n",
    "add_h(mol3)\n",
    "\n",
    "\n",
    "if not match_microstates(mol1, mol2,):\n",
    "    raise RuntimeError(\"These should be resonance structures\")\n",
    "\n",
    "if not match_microstates(mol2, mol1, ):\n",
    "    raise RuntimeError(\"Order should not matter.\")\n",
    "\n",
    "if match_microstates(mol1, mol3, ):\n",
    "    raise RuntimeError(\"These should not be equal states.\")\n",
    "\n",
    "if match_microstates(mol2, mol3, ):\n",
    "    raise RuntimeError(\"These should not be equal states either.\")"
   ]
  },
  {
   "cell_type": "code",
   "execution_count": 5,
   "metadata": {
    "collapsed": true,
    "nbpresent": {
     "id": "c1245430-f5c4-4513-9185-6b620adbec4b"
    },
    "slideshow": {
     "slide_type": "slide"
    }
   },
   "outputs": [],
   "source": [
    "def map_result(microstates: dict, results: list):\n",
    "    \"\"\"Match states from results at one pH to microstates.\"\"\"\n",
    "    matches, unmatched = [], []\n",
    "    for index, result_state in enumerate(results):\n",
    "        mapping = {\"Epik_Microstate\": \"{:d}\".format(index),\n",
    "                   \"Epik_Molecule\": result_state, \"SMILES\" : oechem.OECreateCanSmiString(result_state)}\n",
    "        matched = False\n",
    "        for microstate_id, microstate in microstates.items():\n",
    "            newmatch = match_microstates(result_state, microstate)\n",
    "            if newmatch and matched:\n",
    "#                 print(index, microstate_id, \"matched more than once!\")\n",
    "                duplicate_mapping = dict(mapping)\n",
    "                duplicate_mapping[\"SAMPL6_Microstate_ID\"] = microstate_id\n",
    "                duplicate_mapping[\"SAMPL6_Molecule\"] = microstate                \n",
    "                matches.append(duplicate_mapping)\n",
    "            elif newmatch:\n",
    "                matched = True\n",
    "#                 print(index, microstate_id, \"matched!\")\n",
    "                mapping[\"SAMPL6_Microstate_ID\"] = microstate_id\n",
    "                mapping[\"SAMPL6_Molecule\"] = microstate\n",
    "                matches.append(mapping)\n",
    "                \n",
    "        if matched == False:\n",
    "#             print(\"Could not match: \", index)\n",
    "            unmatched.append(mapping)\n",
    "    return matches, unmatched"
   ]
  },
  {
   "cell_type": "code",
   "execution_count": 6,
   "metadata": {
    "collapsed": false,
    "nbpresent": {
     "id": "d0887ceb-d177-4709-b0fa-53ea647dbb67"
    },
    "scrolled": true,
    "slideshow": {
     "slide_type": "slide"
    }
   },
   "outputs": [
    {
     "name": "stdout",
     "output_type": "stream",
     "text": [
      "SM01\n",
      "3.0\n",
      "6.0\n",
      "9.0\n",
      "SM02\n",
      "3.0\n",
      "6.0\n",
      "9.0\n",
      "SM03\n",
      "3.0\n",
      "6.0\n",
      "9.0\n",
      "SM04\n",
      "3.0\n",
      "6.0\n",
      "9.0\n",
      "SM05\n",
      "3.0\n",
      "6.0\n",
      "9.0\n",
      "SM06\n",
      "3.0\n",
      "6.0\n",
      "9.0\n",
      "SM07\n",
      "3.0\n",
      "6.0\n",
      "9.0\n",
      "SM08\n",
      "3.0\n",
      "6.0\n",
      "9.0\n",
      "SM09\n",
      "3.0\n",
      "6.0\n",
      "9.0\n",
      "SM10\n",
      "3.0\n",
      "6.0\n",
      "9.0\n",
      "SM11\n",
      "3.0\n",
      "6.0\n",
      "9.0\n",
      "SM12\n",
      "3.0\n",
      "6.0\n",
      "9.0\n",
      "SM13\n",
      "3.0\n",
      "6.0\n",
      "9.0\n",
      "SM14\n",
      "3.0\n",
      "6.0\n",
      "9.0\n",
      "SM15\n",
      "3.0\n",
      "6.0\n",
      "9.0\n",
      "SM16\n",
      "3.0\n",
      "6.0\n",
      "9.0\n",
      "SM17\n",
      "3.0\n",
      "6.0\n",
      "9.0\n",
      "SM18\n",
      "3.0\n",
      "6.0\n",
      "9.0\n",
      "SM19\n",
      "3.0\n",
      "6.0\n",
      "9.0\n",
      "SM20\n",
      "3.0\n",
      "6.0\n",
      "9.0\n",
      "SM21\n",
      "3.0\n",
      "6.0\n",
      "9.0\n",
      "SM22\n",
      "3.0\n",
      "6.0\n",
      "9.0\n",
      "SM23\n",
      "3.0\n",
      "6.0\n",
      "9.0\n",
      "SM24\n",
      "3.0\n",
      "6.0\n",
      "9.0\n"
     ]
    }
   ],
   "source": [
    "unmatched_states = pd.DataFrame(columns=[\"Epik_Microstate\", \"Epik_Molecule\", \"pH\", \"SAMPL6_ID\", \"SAMPL6_Microstate_ID\", \"SAMPL6_Molecule\"])\n",
    "matched_states = pd.DataFrame(columns=[\"Epik_Microstate\", \"Epik_Molecule\", \"pH\", \"SAMPL6_ID\", \"SAMPL6_Microstate_ID\", \"SAMPL6_Molecule\"])\n",
    "\n",
    "for molecule in range(24):\n",
    "    SAMPL_ID = \"SM{:02d}\".format(molecule+1)\n",
    "    print(SAMPL_ID)\n",
    "    microstates = load_microstate_dictionary(SAMPL_ID)\n",
    "    for pH in np.linspace(3.0, 11.0, 81):\n",
    "        if pH % 3.0 == 0:\n",
    "            print(pH)\n",
    "        pH_str = '{:.1f}'.format(pH)\n",
    "        results = load_result(SAMPL_ID, pH_str)        \n",
    "        matched, unmatched = map_result(microstates, results)\n",
    "        for um in unmatched:\n",
    "            um['pH'] = pH_str\n",
    "            um['SAMPL6_ID'] = SAMPL_ID\n",
    "            unmatched_states = unmatched_states.append(um, ignore_index=True)\n",
    "        for m in matched:\n",
    "            m['pH'] = pH_str\n",
    "            m['SAMPL6_ID'] = SAMPL_ID\n",
    "            matched_states = matched_states.append(m, ignore_index=True)"
   ]
  },
  {
   "cell_type": "code",
   "execution_count": 7,
   "metadata": {
    "collapsed": false,
    "nbpresent": {
     "id": "269fca74-d5dd-486d-8da8-90aaab0830fc"
    },
    "scrolled": true,
    "slideshow": {
     "slide_type": "slide"
    }
   },
   "outputs": [],
   "source": [
    "#unmatched_states_filtered = unmatched_states.drop([\"pH\", \"SAMPL6_Microstate_ID\", \"SAMPL6_Molecule\"], 1).drop_duplicates(\"SMILES\")\n",
    "\n",
    "sampl_duplicated = matched_states.duplicated([\"pH\", \"SAMPL6_ID\", \"SAMPL6_Microstate_ID\"], keep=False)\n",
    "epik_duplicated = matched_states.duplicated([\"pH\", \"SAMPL6_ID\", \"Epik_Microstate\"], keep=False)"
   ]
  },
  {
   "cell_type": "code",
   "execution_count": null,
   "metadata": {
    "collapsed": true
   },
   "outputs": [],
   "source": []
  },
  {
   "cell_type": "code",
   "execution_count": 21,
   "metadata": {
    "collapsed": false,
    "nbpresent": {
     "id": "ddcbef9f-801c-4755-9176-9ca69042de6f"
    },
    "scrolled": true
   },
   "outputs": [],
   "source": [
    "# oenb.render_dataframe(matched_states[sampl_duplicated], mol_col=\"Epik_Molecule\")"
   ]
  },
  {
   "cell_type": "code",
   "execution_count": 9,
   "metadata": {
    "collapsed": false,
    "nbpresent": {
     "id": "35acbc4b-c281-42c1-be30-350a6f3d911e"
    },
    "scrolled": true
   },
   "outputs": [],
   "source": [
    "# oenb.render_dataframe(matched_states[matched_states[\"SAMPL6_ID\"]== \"SM02\"], mol_col=\"Epik_Molecule\")"
   ]
  },
  {
   "cell_type": "code",
   "execution_count": 15,
   "metadata": {
    "collapsed": false,
    "nbpresent": {
     "id": "4ae0352a-cbc5-41bc-bc97-30944ab011a4"
    },
    "scrolled": true
   },
   "outputs": [],
   "source": [
    "matched_states['Log_P'] = matched_states.apply(lambda row: np.float(oechem.OEGetSDData(row['Epik_Molecule'],\"r_epik_State_Penalty\"))/ (-298.15 * 1.9872036e-3), axis=1)\n",
    "matched_states.to_csv(open(\"microscopic_to_sampl6_mapping.csv\", \"w\"), columns=[\"SAMPL6_ID\", \"pH\", \"Epik_Microstate\", \"SAMPL6_Microstate_ID\", \"Log_P\"])"
   ]
  },
  {
   "cell_type": "code",
   "execution_count": 14,
   "metadata": {
    "collapsed": false,
    "nbpresent": {
     "id": "ad8345c1-c5a1-435c-b3a5-dab3a89da68a"
    },
    "scrolled": true,
    "slideshow": {
     "slide_type": "slide"
    }
   },
   "outputs": [
    {
     "data": {
      "text/html": [
       "<table border=\"1\" class=\"dataframe\">\n",
       "  <thead>\n",
       "    <tr style=\"text-align: right;\">\n",
       "      <th></th>\n",
       "      <th>Epik_Microstate</th>\n",
       "      <th>Epik_Molecule</th>\n",
       "      <th>pH</th>\n",
       "      <th>SAMPL6_ID</th>\n",
       "      <th>SAMPL6_Microstate_ID</th>\n",
       "      <th>SAMPL6_Molecule</th>\n",
       "    </tr>\n",
       "  </thead>\n",
       "  <tbody>\n",
       "  </tbody>\n",
       "</table>"
      ],
      "text/plain": [
       "<IPython.core.display.HTML object>"
      ]
     },
     "execution_count": 14,
     "metadata": {},
     "output_type": "execute_result"
    }
   ],
   "source": [
    "oenb.render_dataframe(unmatched_states, mol_col=\"Epik_Molecule\")"
   ]
  },
  {
   "cell_type": "code",
   "execution_count": 25,
   "metadata": {
    "collapsed": true,
    "nbpresent": {
     "id": "2c85d28b-386d-4373-bbe5-d9e9644c6efa"
    }
   },
   "outputs": [],
   "source": []
  },
  {
   "cell_type": "code",
   "execution_count": 45,
   "metadata": {
    "collapsed": false
   },
   "outputs": [
    {
     "data": {
      "text/html": [
       "<div>\n",
       "<table border=\"1\" class=\"dataframe\">\n",
       "  <thead>\n",
       "    <tr style=\"text-align: right;\">\n",
       "      <th></th>\n",
       "      <th>SAMPL6_ID</th>\n",
       "      <th>SAMPL6_Microstate_ID</th>\n",
       "      <th>pH</th>\n",
       "      <th>Log_P</th>\n",
       "    </tr>\n",
       "  </thead>\n",
       "  <tbody>\n",
       "    <tr>\n",
       "      <th>0</th>\n",
       "      <td>SM01</td>\n",
       "      <td>SM01_micro004</td>\n",
       "      <td>2.0</td>\n",
       "      <td></td>\n",
       "    </tr>\n",
       "    <tr>\n",
       "      <th>1</th>\n",
       "      <td>SM01</td>\n",
       "      <td>SM01_micro004</td>\n",
       "      <td>2.1</td>\n",
       "      <td></td>\n",
       "    </tr>\n",
       "    <tr>\n",
       "      <th>2</th>\n",
       "      <td>SM01</td>\n",
       "      <td>SM01_micro004</td>\n",
       "      <td>2.2</td>\n",
       "      <td></td>\n",
       "    </tr>\n",
       "    <tr>\n",
       "      <th>3</th>\n",
       "      <td>SM01</td>\n",
       "      <td>SM01_micro004</td>\n",
       "      <td>2.3</td>\n",
       "      <td></td>\n",
       "    </tr>\n",
       "    <tr>\n",
       "      <th>4</th>\n",
       "      <td>SM01</td>\n",
       "      <td>SM01_micro004</td>\n",
       "      <td>2.4</td>\n",
       "      <td></td>\n",
       "    </tr>\n",
       "    <tr>\n",
       "      <th>5</th>\n",
       "      <td>SM01</td>\n",
       "      <td>SM01_micro004</td>\n",
       "      <td>2.5</td>\n",
       "      <td></td>\n",
       "    </tr>\n",
       "    <tr>\n",
       "      <th>6</th>\n",
       "      <td>SM01</td>\n",
       "      <td>SM01_micro004</td>\n",
       "      <td>2.6</td>\n",
       "      <td></td>\n",
       "    </tr>\n",
       "    <tr>\n",
       "      <th>7</th>\n",
       "      <td>SM01</td>\n",
       "      <td>SM01_micro004</td>\n",
       "      <td>2.7</td>\n",
       "      <td></td>\n",
       "    </tr>\n",
       "    <tr>\n",
       "      <th>8</th>\n",
       "      <td>SM01</td>\n",
       "      <td>SM01_micro004</td>\n",
       "      <td>2.8</td>\n",
       "      <td></td>\n",
       "    </tr>\n",
       "    <tr>\n",
       "      <th>9</th>\n",
       "      <td>SM01</td>\n",
       "      <td>SM01_micro004</td>\n",
       "      <td>2.9</td>\n",
       "      <td></td>\n",
       "    </tr>\n",
       "    <tr>\n",
       "      <th>10</th>\n",
       "      <td>SM01</td>\n",
       "      <td>SM01_micro004</td>\n",
       "      <td>3.0</td>\n",
       "      <td></td>\n",
       "    </tr>\n",
       "    <tr>\n",
       "      <th>11</th>\n",
       "      <td>SM01</td>\n",
       "      <td>SM01_micro004</td>\n",
       "      <td>3.1</td>\n",
       "      <td></td>\n",
       "    </tr>\n",
       "    <tr>\n",
       "      <th>12</th>\n",
       "      <td>SM01</td>\n",
       "      <td>SM01_micro004</td>\n",
       "      <td>3.2</td>\n",
       "      <td></td>\n",
       "    </tr>\n",
       "    <tr>\n",
       "      <th>13</th>\n",
       "      <td>SM01</td>\n",
       "      <td>SM01_micro004</td>\n",
       "      <td>3.3</td>\n",
       "      <td></td>\n",
       "    </tr>\n",
       "    <tr>\n",
       "      <th>14</th>\n",
       "      <td>SM01</td>\n",
       "      <td>SM01_micro004</td>\n",
       "      <td>3.4</td>\n",
       "      <td></td>\n",
       "    </tr>\n",
       "    <tr>\n",
       "      <th>15</th>\n",
       "      <td>SM01</td>\n",
       "      <td>SM01_micro004</td>\n",
       "      <td>3.5</td>\n",
       "      <td></td>\n",
       "    </tr>\n",
       "    <tr>\n",
       "      <th>16</th>\n",
       "      <td>SM01</td>\n",
       "      <td>SM01_micro004</td>\n",
       "      <td>3.6</td>\n",
       "      <td></td>\n",
       "    </tr>\n",
       "    <tr>\n",
       "      <th>17</th>\n",
       "      <td>SM01</td>\n",
       "      <td>SM01_micro004</td>\n",
       "      <td>3.7</td>\n",
       "      <td></td>\n",
       "    </tr>\n",
       "    <tr>\n",
       "      <th>18</th>\n",
       "      <td>SM01</td>\n",
       "      <td>SM01_micro004</td>\n",
       "      <td>3.8</td>\n",
       "      <td></td>\n",
       "    </tr>\n",
       "    <tr>\n",
       "      <th>19</th>\n",
       "      <td>SM01</td>\n",
       "      <td>SM01_micro004</td>\n",
       "      <td>3.9</td>\n",
       "      <td></td>\n",
       "    </tr>\n",
       "    <tr>\n",
       "      <th>20</th>\n",
       "      <td>SM01</td>\n",
       "      <td>SM01_micro004</td>\n",
       "      <td>4.0</td>\n",
       "      <td></td>\n",
       "    </tr>\n",
       "    <tr>\n",
       "      <th>21</th>\n",
       "      <td>SM01</td>\n",
       "      <td>SM01_micro004</td>\n",
       "      <td>4.1</td>\n",
       "      <td></td>\n",
       "    </tr>\n",
       "    <tr>\n",
       "      <th>22</th>\n",
       "      <td>SM01</td>\n",
       "      <td>SM01_micro004</td>\n",
       "      <td>4.2</td>\n",
       "      <td></td>\n",
       "    </tr>\n",
       "    <tr>\n",
       "      <th>23</th>\n",
       "      <td>SM01</td>\n",
       "      <td>SM01_micro004</td>\n",
       "      <td>4.3</td>\n",
       "      <td></td>\n",
       "    </tr>\n",
       "    <tr>\n",
       "      <th>24</th>\n",
       "      <td>SM01</td>\n",
       "      <td>SM01_micro004</td>\n",
       "      <td>4.4</td>\n",
       "      <td></td>\n",
       "    </tr>\n",
       "    <tr>\n",
       "      <th>25</th>\n",
       "      <td>SM01</td>\n",
       "      <td>SM01_micro004</td>\n",
       "      <td>4.5</td>\n",
       "      <td></td>\n",
       "    </tr>\n",
       "    <tr>\n",
       "      <th>26</th>\n",
       "      <td>SM01</td>\n",
       "      <td>SM01_micro004</td>\n",
       "      <td>4.6</td>\n",
       "      <td></td>\n",
       "    </tr>\n",
       "    <tr>\n",
       "      <th>27</th>\n",
       "      <td>SM01</td>\n",
       "      <td>SM01_micro004</td>\n",
       "      <td>4.7</td>\n",
       "      <td></td>\n",
       "    </tr>\n",
       "    <tr>\n",
       "      <th>28</th>\n",
       "      <td>SM01</td>\n",
       "      <td>SM01_micro004</td>\n",
       "      <td>4.8</td>\n",
       "      <td></td>\n",
       "    </tr>\n",
       "    <tr>\n",
       "      <th>29</th>\n",
       "      <td>SM01</td>\n",
       "      <td>SM01_micro004</td>\n",
       "      <td>4.9</td>\n",
       "      <td></td>\n",
       "    </tr>\n",
       "    <tr>\n",
       "      <th>...</th>\n",
       "      <td>...</td>\n",
       "      <td>...</td>\n",
       "      <td>...</td>\n",
       "      <td>...</td>\n",
       "    </tr>\n",
       "    <tr>\n",
       "      <th>7343</th>\n",
       "      <td>SM24</td>\n",
       "      <td>SM24_micro010</td>\n",
       "      <td>9.1</td>\n",
       "      <td></td>\n",
       "    </tr>\n",
       "    <tr>\n",
       "      <th>7344</th>\n",
       "      <td>SM24</td>\n",
       "      <td>SM24_micro010</td>\n",
       "      <td>9.2</td>\n",
       "      <td></td>\n",
       "    </tr>\n",
       "    <tr>\n",
       "      <th>7345</th>\n",
       "      <td>SM24</td>\n",
       "      <td>SM24_micro010</td>\n",
       "      <td>9.3</td>\n",
       "      <td></td>\n",
       "    </tr>\n",
       "    <tr>\n",
       "      <th>7346</th>\n",
       "      <td>SM24</td>\n",
       "      <td>SM24_micro010</td>\n",
       "      <td>9.4</td>\n",
       "      <td></td>\n",
       "    </tr>\n",
       "    <tr>\n",
       "      <th>7347</th>\n",
       "      <td>SM24</td>\n",
       "      <td>SM24_micro010</td>\n",
       "      <td>9.5</td>\n",
       "      <td></td>\n",
       "    </tr>\n",
       "    <tr>\n",
       "      <th>7348</th>\n",
       "      <td>SM24</td>\n",
       "      <td>SM24_micro010</td>\n",
       "      <td>9.6</td>\n",
       "      <td></td>\n",
       "    </tr>\n",
       "    <tr>\n",
       "      <th>7349</th>\n",
       "      <td>SM24</td>\n",
       "      <td>SM24_micro010</td>\n",
       "      <td>9.7</td>\n",
       "      <td></td>\n",
       "    </tr>\n",
       "    <tr>\n",
       "      <th>7350</th>\n",
       "      <td>SM24</td>\n",
       "      <td>SM24_micro010</td>\n",
       "      <td>9.8</td>\n",
       "      <td></td>\n",
       "    </tr>\n",
       "    <tr>\n",
       "      <th>7351</th>\n",
       "      <td>SM24</td>\n",
       "      <td>SM24_micro010</td>\n",
       "      <td>9.9</td>\n",
       "      <td></td>\n",
       "    </tr>\n",
       "    <tr>\n",
       "      <th>7352</th>\n",
       "      <td>SM24</td>\n",
       "      <td>SM24_micro010</td>\n",
       "      <td>10.0</td>\n",
       "      <td></td>\n",
       "    </tr>\n",
       "    <tr>\n",
       "      <th>7353</th>\n",
       "      <td>SM24</td>\n",
       "      <td>SM24_micro010</td>\n",
       "      <td>10.1</td>\n",
       "      <td></td>\n",
       "    </tr>\n",
       "    <tr>\n",
       "      <th>7354</th>\n",
       "      <td>SM24</td>\n",
       "      <td>SM24_micro010</td>\n",
       "      <td>10.2</td>\n",
       "      <td></td>\n",
       "    </tr>\n",
       "    <tr>\n",
       "      <th>7355</th>\n",
       "      <td>SM24</td>\n",
       "      <td>SM24_micro010</td>\n",
       "      <td>10.3</td>\n",
       "      <td></td>\n",
       "    </tr>\n",
       "    <tr>\n",
       "      <th>7356</th>\n",
       "      <td>SM24</td>\n",
       "      <td>SM24_micro010</td>\n",
       "      <td>10.4</td>\n",
       "      <td></td>\n",
       "    </tr>\n",
       "    <tr>\n",
       "      <th>7357</th>\n",
       "      <td>SM24</td>\n",
       "      <td>SM24_micro010</td>\n",
       "      <td>10.5</td>\n",
       "      <td></td>\n",
       "    </tr>\n",
       "    <tr>\n",
       "      <th>7358</th>\n",
       "      <td>SM24</td>\n",
       "      <td>SM24_micro010</td>\n",
       "      <td>10.6</td>\n",
       "      <td></td>\n",
       "    </tr>\n",
       "    <tr>\n",
       "      <th>7359</th>\n",
       "      <td>SM24</td>\n",
       "      <td>SM24_micro010</td>\n",
       "      <td>10.7</td>\n",
       "      <td></td>\n",
       "    </tr>\n",
       "    <tr>\n",
       "      <th>7360</th>\n",
       "      <td>SM24</td>\n",
       "      <td>SM24_micro010</td>\n",
       "      <td>10.8</td>\n",
       "      <td></td>\n",
       "    </tr>\n",
       "    <tr>\n",
       "      <th>7361</th>\n",
       "      <td>SM24</td>\n",
       "      <td>SM24_micro010</td>\n",
       "      <td>10.9</td>\n",
       "      <td></td>\n",
       "    </tr>\n",
       "    <tr>\n",
       "      <th>7362</th>\n",
       "      <td>SM24</td>\n",
       "      <td>SM24_micro010</td>\n",
       "      <td>11.0</td>\n",
       "      <td></td>\n",
       "    </tr>\n",
       "    <tr>\n",
       "      <th>7363</th>\n",
       "      <td>SM24</td>\n",
       "      <td>SM24_micro010</td>\n",
       "      <td>11.1</td>\n",
       "      <td></td>\n",
       "    </tr>\n",
       "    <tr>\n",
       "      <th>7364</th>\n",
       "      <td>SM24</td>\n",
       "      <td>SM24_micro010</td>\n",
       "      <td>11.2</td>\n",
       "      <td></td>\n",
       "    </tr>\n",
       "    <tr>\n",
       "      <th>7365</th>\n",
       "      <td>SM24</td>\n",
       "      <td>SM24_micro010</td>\n",
       "      <td>11.3</td>\n",
       "      <td></td>\n",
       "    </tr>\n",
       "    <tr>\n",
       "      <th>7366</th>\n",
       "      <td>SM24</td>\n",
       "      <td>SM24_micro010</td>\n",
       "      <td>11.4</td>\n",
       "      <td></td>\n",
       "    </tr>\n",
       "    <tr>\n",
       "      <th>7367</th>\n",
       "      <td>SM24</td>\n",
       "      <td>SM24_micro010</td>\n",
       "      <td>11.5</td>\n",
       "      <td></td>\n",
       "    </tr>\n",
       "    <tr>\n",
       "      <th>7368</th>\n",
       "      <td>SM24</td>\n",
       "      <td>SM24_micro010</td>\n",
       "      <td>11.6</td>\n",
       "      <td></td>\n",
       "    </tr>\n",
       "    <tr>\n",
       "      <th>7369</th>\n",
       "      <td>SM24</td>\n",
       "      <td>SM24_micro010</td>\n",
       "      <td>11.7</td>\n",
       "      <td></td>\n",
       "    </tr>\n",
       "    <tr>\n",
       "      <th>7370</th>\n",
       "      <td>SM24</td>\n",
       "      <td>SM24_micro010</td>\n",
       "      <td>11.8</td>\n",
       "      <td></td>\n",
       "    </tr>\n",
       "    <tr>\n",
       "      <th>7371</th>\n",
       "      <td>SM24</td>\n",
       "      <td>SM24_micro010</td>\n",
       "      <td>11.9</td>\n",
       "      <td></td>\n",
       "    </tr>\n",
       "    <tr>\n",
       "      <th>7372</th>\n",
       "      <td>SM24</td>\n",
       "      <td>SM24_micro010</td>\n",
       "      <td>12.0</td>\n",
       "      <td></td>\n",
       "    </tr>\n",
       "  </tbody>\n",
       "</table>\n",
       "<p>7373 rows × 4 columns</p>\n",
       "</div>"
      ],
      "text/plain": [
       "     SAMPL6_ID SAMPL6_Microstate_ID    pH Log_P\n",
       "0         SM01        SM01_micro004   2.0      \n",
       "1         SM01        SM01_micro004   2.1      \n",
       "2         SM01        SM01_micro004   2.2      \n",
       "3         SM01        SM01_micro004   2.3      \n",
       "4         SM01        SM01_micro004   2.4      \n",
       "5         SM01        SM01_micro004   2.5      \n",
       "6         SM01        SM01_micro004   2.6      \n",
       "7         SM01        SM01_micro004   2.7      \n",
       "8         SM01        SM01_micro004   2.8      \n",
       "9         SM01        SM01_micro004   2.9      \n",
       "10        SM01        SM01_micro004   3.0      \n",
       "11        SM01        SM01_micro004   3.1      \n",
       "12        SM01        SM01_micro004   3.2      \n",
       "13        SM01        SM01_micro004   3.3      \n",
       "14        SM01        SM01_micro004   3.4      \n",
       "15        SM01        SM01_micro004   3.5      \n",
       "16        SM01        SM01_micro004   3.6      \n",
       "17        SM01        SM01_micro004   3.7      \n",
       "18        SM01        SM01_micro004   3.8      \n",
       "19        SM01        SM01_micro004   3.9      \n",
       "20        SM01        SM01_micro004   4.0      \n",
       "21        SM01        SM01_micro004   4.1      \n",
       "22        SM01        SM01_micro004   4.2      \n",
       "23        SM01        SM01_micro004   4.3      \n",
       "24        SM01        SM01_micro004   4.4      \n",
       "25        SM01        SM01_micro004   4.5      \n",
       "26        SM01        SM01_micro004   4.6      \n",
       "27        SM01        SM01_micro004   4.7      \n",
       "28        SM01        SM01_micro004   4.8      \n",
       "29        SM01        SM01_micro004   4.9      \n",
       "...        ...                  ...   ...   ...\n",
       "7343      SM24        SM24_micro010   9.1      \n",
       "7344      SM24        SM24_micro010   9.2      \n",
       "7345      SM24        SM24_micro010   9.3      \n",
       "7346      SM24        SM24_micro010   9.4      \n",
       "7347      SM24        SM24_micro010   9.5      \n",
       "7348      SM24        SM24_micro010   9.6      \n",
       "7349      SM24        SM24_micro010   9.7      \n",
       "7350      SM24        SM24_micro010   9.8      \n",
       "7351      SM24        SM24_micro010   9.9      \n",
       "7352      SM24        SM24_micro010  10.0      \n",
       "7353      SM24        SM24_micro010  10.1      \n",
       "7354      SM24        SM24_micro010  10.2      \n",
       "7355      SM24        SM24_micro010  10.3      \n",
       "7356      SM24        SM24_micro010  10.4      \n",
       "7357      SM24        SM24_micro010  10.5      \n",
       "7358      SM24        SM24_micro010  10.6      \n",
       "7359      SM24        SM24_micro010  10.7      \n",
       "7360      SM24        SM24_micro010  10.8      \n",
       "7361      SM24        SM24_micro010  10.9      \n",
       "7362      SM24        SM24_micro010  11.0      \n",
       "7363      SM24        SM24_micro010  11.1      \n",
       "7364      SM24        SM24_micro010  11.2      \n",
       "7365      SM24        SM24_micro010  11.3      \n",
       "7366      SM24        SM24_micro010  11.4      \n",
       "7367      SM24        SM24_micro010  11.5      \n",
       "7368      SM24        SM24_micro010  11.6      \n",
       "7369      SM24        SM24_micro010  11.7      \n",
       "7370      SM24        SM24_micro010  11.8      \n",
       "7371      SM24        SM24_micro010  11.9      \n",
       "7372      SM24        SM24_micro010  12.0      \n",
       "\n",
       "[7373 rows x 4 columns]"
      ]
     },
     "execution_count": 45,
     "metadata": {},
     "output_type": "execute_result"
    }
   ],
   "source": [
    "# shorthand\n",
    "final_df = pd.DataFrame(columns = [\"SAMPL6_ID\", \"SAMPL6_Microstate_ID\", \"pH\", \"Log_P\"], )\n",
    "ms = matched_states\n",
    "\n",
    "def register_result(molecule_id, output_df, pH_array=None):\n",
    "    \"\"\"Register results in the final dataframe\"\"\"\n",
    "\n",
    "    microstates = load_microstate_dictionary(molecule_id)\n",
    "    for microstate in microstates.keys():\n",
    "        if not any(ms[\"SAMPL6_Microstate_ID\"]== microstate):\n",
    "            continue\n",
    "            \n",
    "        if pH_array is None:\n",
    "            pH_array = np.linspace(2.0, 12.0, 101)\n",
    "        for pH in pH_array:\n",
    "            pH_str = '{:.1f}'.format(pH)\n",
    "            new_entry = {\"SAMPL6_ID\": molecule_id, \"SAMPL6_Microstate_ID\": microstate, \"pH\" : float(pH) , \"Log_P\" : \"\"}\n",
    "            data = ms.loc[(ms['SAMPL6_ID'] == SAMPL_ID) & (ms['SAMPL6_Microstate_ID'] == microstate) & (ms['pH'] == pH_str) ] \n",
    "            \n",
    "            if len(data) > 0:               \n",
    "                # In case duplicates, pick num 1                \n",
    "                row = data.iloc[0]\n",
    "                new_entry[\"Log_P\"] = row[\"Log_P\"]\n",
    "\n",
    "            output_df = output_df.append(new_entry, ignore_index=True)\n",
    "    return output_df\n",
    "\n",
    "for molecule in range(24):\n",
    "    SAMPL_ID = \"SM{:02d}\".format(molecule+1)\n",
    "    final_df = register_result(SAMPL_ID, final_df)\n",
    "    \n",
    "    \n",
    "final_df"
   ]
  },
  {
   "cell_type": "code",
   "execution_count": 47,
   "metadata": {
    "collapsed": false
   },
   "outputs": [],
   "source": [
    "typeII = final_df.pivot(values=\"Log_P\", index=\"SAMPL6_Microstate_ID\", columns=\"pH\")"
   ]
  },
  {
   "cell_type": "code",
   "execution_count": null,
   "metadata": {
    "collapsed": false
   },
   "outputs": [],
   "source": []
  },
  {
   "cell_type": "code",
   "execution_count": 50,
   "metadata": {
    "collapsed": true
   },
   "outputs": [],
   "source": [
    "typeII.to_csv(open(\"typeII-raw-microscopic.csv\", \"w\"))"
   ]
  },
  {
   "cell_type": "code",
   "execution_count": null,
   "metadata": {
    "collapsed": true
   },
   "outputs": [],
   "source": []
  }
 ],
 "metadata": {
  "anaconda-cloud": {},
  "celltoolbar": "Raw Cell Format",
  "kernelspec": {
   "display_name": "Python [default]",
   "language": "python",
   "name": "python3"
  },
  "language_info": {
   "codemirror_mode": {
    "name": "ipython",
    "version": 3
   },
   "file_extension": ".py",
   "mimetype": "text/x-python",
   "name": "python",
   "nbconvert_exporter": "python",
   "pygments_lexer": "ipython3",
   "version": "3.5.2"
  },
  "nbpresent": {
   "slides": {
    "11336a44-91ef-4e54-a572-b17fbfd17ab7": {
     "id": "11336a44-91ef-4e54-a572-b17fbfd17ab7",
     "prev": "74c7abc4-a950-40a6-a94a-b2d02933fa99",
     "regions": {
      "82283a7e-bf2a-4e3b-a01b-d2e784548340": {
       "attrs": {
        "height": 0.8,
        "width": 0.8,
        "x": 0.1,
        "y": 0.1
       },
       "content": {
        "cell": "c1245430-f5c4-4513-9185-6b620adbec4b",
        "part": "whole"
       },
       "id": "82283a7e-bf2a-4e3b-a01b-d2e784548340"
      }
     }
    },
    "262aaf77-d040-415c-9b26-ed92f37d2969": {
     "id": "262aaf77-d040-415c-9b26-ed92f37d2969",
     "prev": "b302fb46-1606-4324-b1f7-82f6e7592297",
     "regions": {
      "1918312d-4549-4e12-9d36-433d7cc15297": {
       "attrs": {
        "height": 0.4,
        "width": 0.8,
        "x": 0.1,
        "y": 0.5
       },
       "content": {
        "cell": "2c85d28b-386d-4373-bbe5-d9e9644c6efa",
        "part": "whole"
       },
       "id": "1918312d-4549-4e12-9d36-433d7cc15297"
      },
      "b8a941c4-3ac9-400c-9e75-5013edbccbd1": {
       "attrs": {
        "height": 0.8,
        "width": 0.8,
        "x": 0.1,
        "y": 0.1
       },
       "content": {
        "cell": "ad8345c1-c5a1-435c-b3a5-dab3a89da68a",
        "part": "whole"
       },
       "id": "b8a941c4-3ac9-400c-9e75-5013edbccbd1"
      }
     }
    },
    "3d312b49-0306-41b6-aa24-735d01154b25": {
     "id": "3d312b49-0306-41b6-aa24-735d01154b25",
     "prev": "11336a44-91ef-4e54-a572-b17fbfd17ab7",
     "regions": {
      "130af865-fb16-4675-b6b6-6da06f914b45": {
       "attrs": {
        "height": 0.8,
        "width": 0.8,
        "x": 0.1,
        "y": 0.1
       },
       "content": {
        "cell": "d0887ceb-d177-4709-b0fa-53ea647dbb67",
        "part": "whole"
       },
       "id": "130af865-fb16-4675-b6b6-6da06f914b45"
      }
     }
    },
    "74c7abc4-a950-40a6-a94a-b2d02933fa99": {
     "id": "74c7abc4-a950-40a6-a94a-b2d02933fa99",
     "prev": "d0a930b6-060e-4ba9-a6a6-6b63cf5c6df9",
     "regions": {
      "fe9cc7c7-44f0-4c96-9b2f-27bf737ffe5e": {
       "attrs": {
        "height": 0.8,
        "width": 0.8,
        "x": 0.1,
        "y": 0.1
       },
       "content": {
        "cell": "68395446-476c-42ee-ae6b-87b1eb31ab4b",
        "part": "whole"
       },
       "id": "fe9cc7c7-44f0-4c96-9b2f-27bf737ffe5e"
      }
     }
    },
    "7d25bacc-adc8-4b84-bba9-ce1858b37501": {
     "id": "7d25bacc-adc8-4b84-bba9-ce1858b37501",
     "prev": null,
     "regions": {
      "e2421499-3c63-40e1-a436-87c8eaff03b0": {
       "attrs": {
        "height": 0.8,
        "width": 0.8,
        "x": 0.1,
        "y": 0.1
       },
       "content": {
        "cell": "7c90af20-65e2-4b29-a198-687b2f813133",
        "part": "whole"
       },
       "id": "e2421499-3c63-40e1-a436-87c8eaff03b0"
      }
     }
    },
    "b302fb46-1606-4324-b1f7-82f6e7592297": {
     "id": "b302fb46-1606-4324-b1f7-82f6e7592297",
     "prev": "3d312b49-0306-41b6-aa24-735d01154b25",
     "regions": {
      "4f6e9936-d48b-4525-90f0-9572cc643178": {
       "attrs": {
        "height": 0.4,
        "width": 0.8,
        "x": 0.1,
        "y": 0.5
       },
       "content": {
        "cell": "ddcbef9f-801c-4755-9176-9ca69042de6f",
        "part": "whole"
       },
       "id": "4f6e9936-d48b-4525-90f0-9572cc643178"
      },
      "81e661a8-0e14-47ae-9d9b-d2585d4d5fa9": {
       "attrs": {
        "height": 0.4,
        "width": 0.8,
        "x": 0.1,
        "y": 0.5
       },
       "content": {
        "cell": "35acbc4b-c281-42c1-be30-350a6f3d911e",
        "part": "whole"
       },
       "id": "81e661a8-0e14-47ae-9d9b-d2585d4d5fa9"
      },
      "92f99530-5d11-41d5-9ded-25f53829bd1b": {
       "attrs": {
        "height": 0.4,
        "width": 0.8,
        "x": 0.1,
        "y": 0.5
       },
       "content": {
        "cell": "4ae0352a-cbc5-41bc-bc97-30944ab011a4",
        "part": "whole"
       },
       "id": "92f99530-5d11-41d5-9ded-25f53829bd1b"
      },
      "d9bbcc6e-cafe-41f9-887f-c160bbaf94c8": {
       "attrs": {
        "height": 0.8,
        "width": 0.8,
        "x": 0.1,
        "y": 0.1
       },
       "content": {
        "cell": "269fca74-d5dd-486d-8da8-90aaab0830fc",
        "part": "whole"
       },
       "id": "d9bbcc6e-cafe-41f9-887f-c160bbaf94c8"
      }
     }
    },
    "d0a930b6-060e-4ba9-a6a6-6b63cf5c6df9": {
     "id": "d0a930b6-060e-4ba9-a6a6-6b63cf5c6df9",
     "prev": "7d25bacc-adc8-4b84-bba9-ce1858b37501",
     "regions": {
      "5f1ddb33-13fc-4a34-af37-2ce5ed724ba0": {
       "attrs": {
        "height": 0.8,
        "width": 0.8,
        "x": 0.1,
        "y": 0.1
       },
       "content": {
        "cell": "886f68eb-71df-42f0-b77a-971fe3125589",
        "part": "whole"
       },
       "id": "5f1ddb33-13fc-4a34-af37-2ce5ed724ba0"
      }
     }
    }
   },
   "themes": {}
  }
 },
 "nbformat": 4,
 "nbformat_minor": 0
}
